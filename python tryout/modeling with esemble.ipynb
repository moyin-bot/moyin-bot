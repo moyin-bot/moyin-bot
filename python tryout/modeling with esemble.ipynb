{
 "cells": [
  {
   "cell_type": "code",
   "execution_count": 1,
   "id": "9d466402",
   "metadata": {},
   "outputs": [],
   "source": [
    "# Import packages\n",
    "# Basics\n",
    "import pandas as pd\n",
    "import numpy as np\n",
    "import matplotlib.pyplot as plt\n",
    "#ML\n",
    "from sklearn.ensemble import RandomForestClassifier\n",
    "from sklearn.metrics import mean_absolute_error\n",
    "from sklearn.pipeline import make_pipeline\n",
    "from category_encoders import OneHotEncoder\n",
    "from sklearn.model_selection import train_test_split\n",
    "from sklearn.metrics import accuracy_score"
   ]
  },
  {
   "cell_type": "code",
   "execution_count": 2,
   "id": "a83316fc",
   "metadata": {},
   "outputs": [],
   "source": [
    "df = pd.read_csv(\"settlement.csv\")"
   ]
  },
  {
   "cell_type": "code",
   "execution_count": 3,
   "id": "ce17fec5",
   "metadata": {},
   "outputs": [
    {
     "data": {
      "text/html": [
       "<div>\n",
       "<style scoped>\n",
       "    .dataframe tbody tr th:only-of-type {\n",
       "        vertical-align: middle;\n",
       "    }\n",
       "\n",
       "    .dataframe tbody tr th {\n",
       "        vertical-align: top;\n",
       "    }\n",
       "\n",
       "    .dataframe thead th {\n",
       "        text-align: right;\n",
       "    }\n",
       "</style>\n",
       "<table border=\"1\" class=\"dataframe\">\n",
       "  <thead>\n",
       "    <tr style=\"text-align: right;\">\n",
       "      <th></th>\n",
       "      <th>UniqueID</th>\n",
       "      <th>Date</th>\n",
       "      <th>Time of the Day</th>\n",
       "      <th>Day of week</th>\n",
       "      <th>Latitude</th>\n",
       "      <th>Longitude</th>\n",
       "      <th>Agg. Active RSCP (dBm)</th>\n",
       "      <th>Agg. Active Ec/Io (dB)</th>\n",
       "      <th>UE Received Power (RSSI - dBm): Top #1</th>\n",
       "      <th>Call Established</th>\n",
       "      <th>Settlement</th>\n",
       "    </tr>\n",
       "  </thead>\n",
       "  <tbody>\n",
       "    <tr>\n",
       "      <th>0</th>\n",
       "      <td>132</td>\n",
       "      <td>2/18/2022</td>\n",
       "      <td>Morning</td>\n",
       "      <td>Friday</td>\n",
       "      <td>7.301352</td>\n",
       "      <td>5.151550</td>\n",
       "      <td>0.0</td>\n",
       "      <td>0.0</td>\n",
       "      <td>0.0</td>\n",
       "      <td>0</td>\n",
       "      <td>Urban</td>\n",
       "    </tr>\n",
       "    <tr>\n",
       "      <th>1</th>\n",
       "      <td>237</td>\n",
       "      <td>2/18/2022</td>\n",
       "      <td>Morning</td>\n",
       "      <td>Friday</td>\n",
       "      <td>7.286134</td>\n",
       "      <td>5.168570</td>\n",
       "      <td>-68.0</td>\n",
       "      <td>3.3</td>\n",
       "      <td>0.0</td>\n",
       "      <td>0</td>\n",
       "      <td>Rural</td>\n",
       "    </tr>\n",
       "    <tr>\n",
       "      <th>2</th>\n",
       "      <td>1167</td>\n",
       "      <td>2/18/2022</td>\n",
       "      <td>Morning</td>\n",
       "      <td>Friday</td>\n",
       "      <td>7.256312</td>\n",
       "      <td>5.220053</td>\n",
       "      <td>0.0</td>\n",
       "      <td>0.0</td>\n",
       "      <td>0.0</td>\n",
       "      <td>0</td>\n",
       "      <td>Sub-Urban</td>\n",
       "    </tr>\n",
       "    <tr>\n",
       "      <th>3</th>\n",
       "      <td>1380</td>\n",
       "      <td>2/18/2022</td>\n",
       "      <td>Morning</td>\n",
       "      <td>Friday</td>\n",
       "      <td>7.251329</td>\n",
       "      <td>5.205139</td>\n",
       "      <td>-67.0</td>\n",
       "      <td>0.0</td>\n",
       "      <td>0.0</td>\n",
       "      <td>0</td>\n",
       "      <td>Sub-Urban</td>\n",
       "    </tr>\n",
       "    <tr>\n",
       "      <th>4</th>\n",
       "      <td>1740</td>\n",
       "      <td>2/18/2022</td>\n",
       "      <td>Evening</td>\n",
       "      <td>Friday</td>\n",
       "      <td>7.263557</td>\n",
       "      <td>5.160170</td>\n",
       "      <td>0.0</td>\n",
       "      <td>0.0</td>\n",
       "      <td>0.0</td>\n",
       "      <td>1</td>\n",
       "      <td>Rural</td>\n",
       "    </tr>\n",
       "  </tbody>\n",
       "</table>\n",
       "</div>"
      ],
      "text/plain": [
       "   UniqueID       Date Time of the Day Day of week  Latitude  Longitude  \\\n",
       "0       132  2/18/2022         Morning      Friday  7.301352   5.151550   \n",
       "1       237  2/18/2022         Morning      Friday  7.286134   5.168570   \n",
       "2      1167  2/18/2022         Morning      Friday  7.256312   5.220053   \n",
       "3      1380  2/18/2022         Morning      Friday  7.251329   5.205139   \n",
       "4      1740  2/18/2022         Evening      Friday  7.263557   5.160170   \n",
       "\n",
       "   Agg. Active RSCP (dBm)  Agg. Active Ec/Io (dB)  \\\n",
       "0                     0.0                     0.0   \n",
       "1                   -68.0                     3.3   \n",
       "2                     0.0                     0.0   \n",
       "3                   -67.0                     0.0   \n",
       "4                     0.0                     0.0   \n",
       "\n",
       "   UE Received Power (RSSI - dBm): Top #1  Call Established Settlement  \n",
       "0                                     0.0                 0      Urban  \n",
       "1                                     0.0                 0      Rural  \n",
       "2                                     0.0                 0  Sub-Urban  \n",
       "3                                     0.0                 0  Sub-Urban  \n",
       "4                                     0.0                 1      Rural  "
      ]
     },
     "execution_count": 3,
     "metadata": {},
     "output_type": "execute_result"
    }
   ],
   "source": [
    "df.head()"
   ]
  },
  {
   "cell_type": "code",
   "execution_count": 4,
   "id": "579790da",
   "metadata": {},
   "outputs": [
    {
     "data": {
      "text/plain": [
       "UniqueID                                    int64\n",
       "Date                                       object\n",
       "Time of the Day                            object\n",
       "Day of week                                object\n",
       "Latitude                                  float64\n",
       "Longitude                                 float64\n",
       "Agg. Active RSCP (dBm)                    float64\n",
       "Agg. Active Ec/Io (dB)                    float64\n",
       "UE Received Power (RSSI - dBm): Top #1    float64\n",
       "Call Established                            int64\n",
       "Settlement                                 object\n",
       "dtype: object"
      ]
     },
     "execution_count": 4,
     "metadata": {},
     "output_type": "execute_result"
    }
   ],
   "source": [
    "df.dtypes"
   ]
  },
  {
   "cell_type": "code",
   "execution_count": 5,
   "id": "4e454d0f",
   "metadata": {},
   "outputs": [],
   "source": [
    "df.drop([\"UniqueID\",\"Date\"], axis = 1, inplace=True)"
   ]
  },
  {
   "cell_type": "code",
   "execution_count": 6,
   "id": "ea73a118",
   "metadata": {},
   "outputs": [
    {
     "name": "stdout",
     "output_type": "stream",
     "text": [
      "<class 'pandas.core.frame.DataFrame'>\n",
      "RangeIndex: 170 entries, 0 to 169\n",
      "Data columns (total 9 columns):\n",
      " #   Column                                  Non-Null Count  Dtype  \n",
      "---  ------                                  --------------  -----  \n",
      " 0   Time of the Day                         170 non-null    object \n",
      " 1   Day of week                             170 non-null    object \n",
      " 2   Latitude                                170 non-null    float64\n",
      " 3   Longitude                               170 non-null    float64\n",
      " 4   Agg. Active RSCP (dBm)                  170 non-null    float64\n",
      " 5   Agg. Active Ec/Io (dB)                  170 non-null    float64\n",
      " 6   UE Received Power (RSSI - dBm): Top #1  170 non-null    float64\n",
      " 7   Call Established                        170 non-null    int64  \n",
      " 8   Settlement                              170 non-null    object \n",
      "dtypes: float64(5), int64(1), object(3)\n",
      "memory usage: 12.1+ KB\n"
     ]
    }
   ],
   "source": [
    "df.info()"
   ]
  },
  {
   "cell_type": "code",
   "execution_count": 7,
   "id": "0c1ad315",
   "metadata": {},
   "outputs": [],
   "source": [
    "target = \"Call Established\"\n",
    "y = df[target]\n",
    "X = df.drop([\"Call Established\"], axis=1)"
   ]
  },
  {
   "cell_type": "code",
   "execution_count": 8,
   "id": "9720d894",
   "metadata": {},
   "outputs": [
    {
     "name": "stdout",
     "output_type": "stream",
     "text": [
      "X_train shape: (136, 8)\n",
      "y_train shape: (136,)\n",
      "X_test shape: (34, 8)\n",
      "y_test shape: (34,)\n"
     ]
    }
   ],
   "source": [
    "X_train, X_test, y_train, y_test = train_test_split(\n",
    "    X,y, test_size=0.2, random_state=42\n",
    ")\n",
    "\n",
    "print(\"X_train shape:\", X_train.shape)\n",
    "print(\"y_train shape:\", y_train.shape)\n",
    "print(\"X_test shape:\", X_test.shape)\n",
    "print(\"y_test shape:\", y_test.shape)"
   ]
  },
  {
   "cell_type": "code",
   "execution_count": 9,
   "id": "88a02910",
   "metadata": {},
   "outputs": [
    {
     "name": "stdout",
     "output_type": "stream",
     "text": [
      "Baseline Accuracy: 0.93\n"
     ]
    }
   ],
   "source": [
    "acc_baseline = y_train.value_counts(normalize=True).max()\n",
    "print(\"Baseline Accuracy:\", round(acc_baseline, 2))"
   ]
  },
  {
   "cell_type": "code",
   "execution_count": 10,
   "id": "b5e7d97b",
   "metadata": {},
   "outputs": [
    {
     "data": {
      "text/plain": [
       "Pipeline(steps=[('onehotencoder',\n",
       "                 OneHotEncoder(cols=['Time of the Day', 'Day of week',\n",
       "                                     'Settlement'],\n",
       "                               use_cat_names=True)),\n",
       "                ('randomforestclassifier',\n",
       "                 RandomForestClassifier(max_depth=15))])"
      ]
     },
     "execution_count": 10,
     "metadata": {},
     "output_type": "execute_result"
    }
   ],
   "source": [
    "# Build model\n",
    "model = make_pipeline(\n",
    "    OneHotEncoder(use_cat_names=True),\n",
    "    RandomForestClassifier(n_estimators=100, max_depth=15)\n",
    ")\n",
    "# Fit model to training data\n",
    "model.fit(X_train, y_train)"
   ]
  },
  {
   "cell_type": "code",
   "execution_count": 15,
   "id": "e5c21f65",
   "metadata": {},
   "outputs": [
    {
     "name": "stdout",
     "output_type": "stream",
     "text": [
      "Training Accuracy: 0.97\n",
      "Test Accuracy: 1.0\n"
     ]
    }
   ],
   "source": [
    "acc_train = accuracy_score(y_train, model.predict(X_train))\n",
    "acc_test = model.score(X_test, y_test)\n",
    "\n",
    "print(\"Training Accuracy:\", round(acc_train, 2))\n",
    "print(\"Test Accuracy:\", round(acc_test, 2))"
   ]
  },
  {
   "cell_type": "markdown",
   "id": "7bfe2cc8",
   "metadata": {},
   "source": [
    "# Upsampling"
   ]
  },
  {
   "cell_type": "code",
   "execution_count": 18,
   "id": "e19f926d",
   "metadata": {},
   "outputs": [],
   "source": [
    "from imblearn.over_sampling import SMOTE\n",
    "from sklearn.utils import resample"
   ]
  },
  {
   "cell_type": "code",
   "execution_count": 19,
   "id": "c1483a46",
   "metadata": {},
   "outputs": [],
   "source": [
    "#smote = SMOTE()"
   ]
  },
  {
   "cell_type": "code",
   "execution_count": 22,
   "id": "bbd348d1",
   "metadata": {},
   "outputs": [],
   "source": [
    "#X_train_synth, y_train_synth = smote.fit_resample(X_train, y_train)"
   ]
  },
  {
   "cell_type": "code",
   "execution_count": 21,
   "id": "b235b247",
   "metadata": {},
   "outputs": [
    {
     "data": {
      "text/html": [
       "<div>\n",
       "<style scoped>\n",
       "    .dataframe tbody tr th:only-of-type {\n",
       "        vertical-align: middle;\n",
       "    }\n",
       "\n",
       "    .dataframe tbody tr th {\n",
       "        vertical-align: top;\n",
       "    }\n",
       "\n",
       "    .dataframe thead th {\n",
       "        text-align: right;\n",
       "    }\n",
       "</style>\n",
       "<table border=\"1\" class=\"dataframe\">\n",
       "  <thead>\n",
       "    <tr style=\"text-align: right;\">\n",
       "      <th></th>\n",
       "      <th>Time of the Day</th>\n",
       "      <th>Day of week</th>\n",
       "      <th>Latitude</th>\n",
       "      <th>Longitude</th>\n",
       "      <th>Agg. Active RSCP (dBm)</th>\n",
       "      <th>Agg. Active Ec/Io (dB)</th>\n",
       "      <th>UE Received Power (RSSI - dBm): Top #1</th>\n",
       "      <th>Settlement</th>\n",
       "    </tr>\n",
       "  </thead>\n",
       "  <tbody>\n",
       "    <tr>\n",
       "      <th>69</th>\n",
       "      <td>Morning</td>\n",
       "      <td>Thursday</td>\n",
       "      <td>7.302845</td>\n",
       "      <td>5.141240</td>\n",
       "      <td>-75.000000</td>\n",
       "      <td>0.0</td>\n",
       "      <td>0.000000</td>\n",
       "      <td>Urban</td>\n",
       "    </tr>\n",
       "    <tr>\n",
       "      <th>138</th>\n",
       "      <td>Evening</td>\n",
       "      <td>Tuesday</td>\n",
       "      <td>7.281401</td>\n",
       "      <td>5.190765</td>\n",
       "      <td>-74.599998</td>\n",
       "      <td>-13.6</td>\n",
       "      <td>-60.599998</td>\n",
       "      <td>Rural</td>\n",
       "    </tr>\n",
       "    <tr>\n",
       "      <th>2</th>\n",
       "      <td>Morning</td>\n",
       "      <td>Friday</td>\n",
       "      <td>7.256312</td>\n",
       "      <td>5.220053</td>\n",
       "      <td>0.000000</td>\n",
       "      <td>0.0</td>\n",
       "      <td>0.000000</td>\n",
       "      <td>Sub-Urban</td>\n",
       "    </tr>\n",
       "    <tr>\n",
       "      <th>93</th>\n",
       "      <td>Evening</td>\n",
       "      <td>Friday</td>\n",
       "      <td>7.251216</td>\n",
       "      <td>5.193949</td>\n",
       "      <td>-68.400002</td>\n",
       "      <td>-14.0</td>\n",
       "      <td>-53.799999</td>\n",
       "      <td>Sub-Urban</td>\n",
       "    </tr>\n",
       "    <tr>\n",
       "      <th>136</th>\n",
       "      <td>Morning</td>\n",
       "      <td>Tuesday</td>\n",
       "      <td>7.305357</td>\n",
       "      <td>5.143816</td>\n",
       "      <td>-67.000000</td>\n",
       "      <td>-12.8</td>\n",
       "      <td>-54.500000</td>\n",
       "      <td>Urban</td>\n",
       "    </tr>\n",
       "  </tbody>\n",
       "</table>\n",
       "</div>"
      ],
      "text/plain": [
       "    Time of the Day Day of week  Latitude  Longitude  Agg. Active RSCP (dBm)  \\\n",
       "69          Morning    Thursday  7.302845   5.141240              -75.000000   \n",
       "138         Evening     Tuesday  7.281401   5.190765              -74.599998   \n",
       "2           Morning      Friday  7.256312   5.220053                0.000000   \n",
       "93          Evening      Friday  7.251216   5.193949              -68.400002   \n",
       "136         Morning     Tuesday  7.305357   5.143816              -67.000000   \n",
       "\n",
       "     Agg. Active Ec/Io (dB)  UE Received Power (RSSI - dBm): Top #1 Settlement  \n",
       "69                      0.0                                0.000000      Urban  \n",
       "138                   -13.6                              -60.599998      Rural  \n",
       "2                       0.0                                0.000000  Sub-Urban  \n",
       "93                    -14.0                              -53.799999  Sub-Urban  \n",
       "136                   -12.8                              -54.500000      Urban  "
      ]
     },
     "execution_count": 21,
     "metadata": {},
     "output_type": "execute_result"
    }
   ],
   "source": [
    "X_train.head()"
   ]
  },
  {
   "cell_type": "markdown",
   "id": "24e9fe78",
   "metadata": {},
   "source": [
    "Since we dealing with imbalance data, we upsample the training data to balance the amount of call esctablished and call dropped and then fit it to the model."
   ]
  },
  {
   "cell_type": "code",
   "execution_count": 26,
   "id": "635f5100",
   "metadata": {},
   "outputs": [],
   "source": [
    "def balance_sample(x_train, y_train, sample_mode='up'):\n",
    "    train_df = x_train.copy()\n",
    "    train_df['Call Establishment'] = y_train\n",
    "\n",
    "    train_minority = train_df[train_df['Call Establishment'] == 0]\n",
    "    train_majority = train_df[train_df['Call Establishment'] == 1]\n",
    "\n",
    "    train_sampled_df = pd.DataFrame()\n",
    "\n",
    "    if sample_mode == 'down':\n",
    "        train_majority_down = resample(train_majority, replace=False,  n_samples=train_minority.shape[0], random_state=123)\n",
    "        train_sampled_df = pd.concat([train_minority, train_majority_down])  \n",
    "    else:\n",
    "        train_minority_up = resample(train_minority, replace=True,  n_samples=train_majority.shape[0], random_state=123)\n",
    "        train_sampled_df = pd.concat([train_majority, train_minority_up])\n",
    "\n",
    "    x_train_samp = train_sampled_df.drop(['Call Establishment'], axis=1)\n",
    "    y_train_samp = train_sampled_df['Call Establishment']\n",
    "\n",
    "    return x_train_samp, y_train_samp "
   ]
  },
  {
   "cell_type": "code",
   "execution_count": 39,
   "id": "bb00abbf",
   "metadata": {},
   "outputs": [
    {
     "name": "stdout",
     "output_type": "stream",
     "text": [
      "1    126\n",
      "0    126\n",
      "Name: Call Establishment, dtype: int64\n",
      "1    0.5\n",
      "0    0.5\n",
      "Name: Call Establishment, dtype: float64\n"
     ]
    }
   ],
   "source": [
    "#upsample random forest\n",
    "X_train_up, y_train_up = balance_sample(X_train, y_train, sample_mode='up')\n",
    "\n",
    "print(y_train_up.value_counts())\n",
    "print(y_train_up.value_counts(normalize=True))"
   ]
  },
  {
   "cell_type": "code",
   "execution_count": 40,
   "id": "fbfe1bbb",
   "metadata": {},
   "outputs": [
    {
     "data": {
      "text/plain": [
       "Pipeline(steps=[('onehotencoder',\n",
       "                 OneHotEncoder(cols=['Time of the Day', 'Day of week',\n",
       "                                     'Settlement'],\n",
       "                               use_cat_names=True)),\n",
       "                ('logisticregression', LogisticRegression(max_iter=1000))])"
      ]
     },
     "execution_count": 40,
     "metadata": {},
     "output_type": "execute_result"
    }
   ],
   "source": [
    "model.fit(X_train_up,y_train_up)"
   ]
  },
  {
   "cell_type": "code",
   "execution_count": 41,
   "id": "c1fa477f",
   "metadata": {},
   "outputs": [
    {
     "name": "stdout",
     "output_type": "stream",
     "text": [
      "Training Accuracy: 0.98\n",
      "Test Accuracy: 0.97\n"
     ]
    }
   ],
   "source": [
    "acc_train_up = accuracy_score(y_train_up, model.predict(X_train_up))\n",
    "acc_test = model.score(X_test, y_test)\n",
    "\n",
    "print(\"Training Accuracy:\", round(acc_train_up, 2))\n",
    "print(\"Test Accuracy:\", round(acc_test, 2))"
   ]
  },
  {
   "cell_type": "markdown",
   "id": "1847673c",
   "metadata": {},
   "source": [
    "# Communication"
   ]
  },
  {
   "cell_type": "code",
   "execution_count": 42,
   "id": "b089484e",
   "metadata": {},
   "outputs": [],
   "source": [
    "from joblib import dump, load"
   ]
  },
  {
   "cell_type": "code",
   "execution_count": 43,
   "id": "17855d84",
   "metadata": {},
   "outputs": [
    {
     "data": {
      "text/plain": [
       "['callestablishment.joblib']"
      ]
     },
     "execution_count": 43,
     "metadata": {},
     "output_type": "execute_result"
    }
   ],
   "source": [
    "dump(model, \"callestablishment.joblib\")"
   ]
  },
  {
   "cell_type": "code",
   "execution_count": 44,
   "id": "84a012ba",
   "metadata": {},
   "outputs": [
    {
     "name": "stdout",
     "output_type": "stream",
     "text": [
      "[[5.70473454e-01 4.29526546e-01]\n",
      " [7.85324261e-09 9.99999992e-01]\n",
      " [9.71854495e-01 2.81455049e-02]\n",
      " [1.17778278e-04 9.99882222e-01]\n",
      " [1.19843447e-07 9.99999880e-01]]\n"
     ]
    }
   ],
   "source": [
    "y_train_pred_proba = model.predict_proba(X_train)\n",
    "print(y_train_pred_proba[:5])"
   ]
  },
  {
   "cell_type": "markdown",
   "id": "e1877faf",
   "metadata": {},
   "source": [
    "Extract the feature names and importances from your model"
   ]
  },
  {
   "cell_type": "code",
   "execution_count": 46,
   "id": "631e274c",
   "metadata": {},
   "outputs": [],
   "source": [
    "features = model.named_steps[\"onehotencoder\"].get_feature_names_out()\n",
    "importances = model.named_steps[\"logisticregression\"].coef_[0]"
   ]
  },
  {
   "cell_type": "code",
   "execution_count": 47,
   "id": "db9194d5",
   "metadata": {},
   "outputs": [
    {
     "data": {
      "text/plain": [
       "Day of week_Friday                        0.030634\n",
       "Day of week_Sunday                        0.536956\n",
       "UE Received Power (RSSI - dBm): Top #1    0.583696\n",
       "Day of week_Wednesday                     0.623767\n",
       "Settlement_Sub-Urban                      0.726960\n",
       "dtype: float64"
      ]
     },
     "execution_count": 47,
     "metadata": {},
     "output_type": "execute_result"
    }
   ],
   "source": [
    "odds_ratios = pd.Series(np.exp(importances), index=features).sort_values()\n",
    "odds_ratios.head()"
   ]
  },
  {
   "cell_type": "code",
   "execution_count": 50,
   "id": "abf337be",
   "metadata": {},
   "outputs": [
    {
     "data": {
      "image/png": "[encoded data removed]",
      "text/plain": [
       "<Figure size 640x480 with 1 Axes>"
      ]
     },
     "metadata": {},
     "output_type": "display_data"
    }
   ],
   "source": [
    "# Horizontal bar chart, five largest coefficients\n",
    "odds_ratios.tail().plot(kind=\"barh\")\n",
    "plt.xlabel(\"Odd Ratio\");"
   ]
  },
  {
   "cell_type": "markdown",
   "id": "960fefec",
   "metadata": {},
   "source": [
    "We will Create a function \"make_prediction\" that takes four arguments certain inpute and returns predictions for an Call drop."
   ]
  },
  {
   "cell_type": "code",
   "execution_count": 79,
   "id": "922cabdb",
   "metadata": {},
   "outputs": [],
   "source": [
    "def make_prediction(TimeD,DayOfWeek, lat, lon, RSCP, EcIo, RSSI, settlement):\n",
    "    data = {\n",
    "        \"Time of the Day\": TimeD, #Time of the day either Morning/Evening\n",
    "        \"Day of week\":DayOfWeek, # Day of the week either Monday/Tuesday/.../Sunday\n",
    "        \"Latitude\": lat,\n",
    "        \"Longitude\": lon,\n",
    "        \"Agg. Active RSCP (dBm)\": RSCP,\n",
    "        \"Agg. Active Ec/Io (dB)\":EcIo,\n",
    "        \"UE Received Power (RSSI - dBm): Top #1\":RSSI,\n",
    "        \"Settlement\": settlement\n",
    "    }\n",
    "    df = pd.DataFrame(data, index=[0])\n",
    "    prediction = model.predict(df).round(2)[0]\n",
    "    if prediction == 1:\n",
    "        output_msg = \"Call Etablished\"\n",
    "    else:\n",
    "        output_msg = \"Call Dropped\"\n",
    "    return output_msg"
   ]
  },
  {
   "cell_type": "code",
   "execution_count": 80,
   "id": "8f302469",
   "metadata": {},
   "outputs": [
    {
     "data": {
      "text/plain": [
       "Index(['Time of the Day', 'Day of week', 'Latitude', 'Longitude',\n",
       "       'Agg. Active RSCP (dBm)', 'Agg. Active Ec/Io (dB)',\n",
       "       'UE Received Power (RSSI - dBm): Top #1', 'Settlement'],\n",
       "      dtype='object')"
      ]
     },
     "execution_count": 80,
     "metadata": {},
     "output_type": "execute_result"
    }
   ],
   "source": [
    "X_train.columns"
   ]
  },
  {
   "cell_type": "code",
   "execution_count": 82,
   "id": "0fdd8641",
   "metadata": {},
   "outputs": [
    {
     "data": {
      "text/plain": [
       "'Call Etablished'"
      ]
     },
     "execution_count": 82,
     "metadata": {},
     "output_type": "execute_result"
    }
   ],
   "source": [
    "make_prediction(\"evening\",\"Friday\",7.256312,5.190765,-72,-12,-55,\"Rural\")"
   ]
  },
  {
   "cell_type": "code",
   "execution_count": null,
   "id": "5ce61fe3",
   "metadata": {},
   "outputs": [],
   "source": []
  }
 ],
 "metadata": {
  "kernelspec": {
   "display_name": "Python 3 (ipykernel)",
   "language": "python",
   "name": "python3"
  },
  "language_info": {
   "codemirror_mode": {
    "name": "ipython",
    "version": 3
   },
   "file_extension": ".py",
   "mimetype": "text/x-python",
   "name": "python",
   "nbconvert_exporter": "python",
   "pygments_lexer": "ipython3",
   "version": "3.9.13"
  }
 },
 "nbformat": 4,
 "nbformat_minor": 5
}
