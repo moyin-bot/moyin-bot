{
 "cells": [
  {
   "cell_type": "code",
   "execution_count": 1,
   "id": "922a9e67",
   "metadata": {},
   "outputs": [],
   "source": [
    "#Importing data preprocessing libraries \n",
    "import pandas as pd\n",
    "import numpy as np\n",
    "\n",
    "#Turning off warning messages\n",
    "import warnings\n",
    "warnings.filterwarnings(\"ignore\")\n",
    "warnings.filterwarnings(\"ignore\", category=DeprecationWarning)\n",
    "\n",
    "#Importing visualization libraries \n",
    "import matplotlib.pyplot as plt\n",
    "%matplotlib inline \n",
    "import seaborn as sns\n",
    "\n",
    "#Importing machine learning libs \n",
    "from sklearn.model_selection import train_test_split\n",
    "\n",
    "\n",
    "from sklearn.metrics import confusion_matrix,classification_report,plot_confusion_matrix\n",
    "from sklearn.preprocessing import StandardScaler\n",
    "from sklearn.linear_model import LogisticRegressionCV \n",
    "from sklearn.linear_model import LogisticRegression\n",
    "from sklearn.tree import DecisionTreeClassifier\n",
    "from sklearn.metrics import r2_score\n",
    "from sklearn.metrics import f1_score\n",
    "from sklearn.linear_model import LinearRegression\n",
    "from sklearn.metrics import mean_absolute_error,mean_squared_error\n",
    "from sklearn.metrics import plot_precision_recall_curve,plot_roc_curve\n",
    "from sklearn.metrics import classification_report\n"
   ]
  },
  {
   "cell_type": "code",
   "execution_count": 2,
   "id": "fa614b71",
   "metadata": {},
   "outputs": [],
   "source": [
    "from sklearn.svm import SVR,LinearSVR"
   ]
  },
  {
   "cell_type": "code",
   "execution_count": 3,
   "id": "f3e7b066",
   "metadata": {},
   "outputs": [],
   "source": [
    "df = pd.read_csv('FUTAENVIRONS.csv')"
   ]
  },
  {
   "cell_type": "code",
   "execution_count": 20,
   "id": "18628ec0",
   "metadata": {},
   "outputs": [
    {
     "data": {
      "text/html": [
       "<div>\n",
       "<style scoped>\n",
       "    .dataframe tbody tr th:only-of-type {\n",
       "        vertical-align: middle;\n",
       "    }\n",
       "\n",
       "    .dataframe tbody tr th {\n",
       "        vertical-align: top;\n",
       "    }\n",
       "\n",
       "    .dataframe thead th {\n",
       "        text-align: right;\n",
       "    }\n",
       "</style>\n",
       "<table border=\"1\" class=\"dataframe\">\n",
       "  <thead>\n",
       "    <tr style=\"text-align: right;\">\n",
       "      <th></th>\n",
       "      <th>Time</th>\n",
       "      <th>Latitude</th>\n",
       "      <th>Longitude</th>\n",
       "      <th>Total PDCP DL Throughput</th>\n",
       "      <th>PDSCH Phy Throughput (kbps)</th>\n",
       "      <th>PUSCH Phy Throughput (kbps)</th>\n",
       "      <th>PDSCH Resource Blocks Allocated (Allocated Subframes Only)</th>\n",
       "      <th>PDSCH Resource Block Allocation (%)</th>\n",
       "      <th>PUSCH Resource Blocks Allocated (Allocated Subframes Only)</th>\n",
       "      <th>Number of PUSCH Resource Blocks</th>\n",
       "      <th>Number of PDSCH Resource Blocks</th>\n",
       "      <th>PDCP Throughput DL (kbps)</th>\n",
       "      <th>PDCP Throughput UL (kbps)</th>\n",
       "      <th>PHY Layer Throughput PDSCH (kbps)</th>\n",
       "      <th>PHY Layer Throughput PUSCH (kbps)</th>\n",
       "      <th>RLC Throughput DL (kbps)(LTE Throughputs from Data Collector)</th>\n",
       "      <th>RLC Throughput UL (kbps)(LTE Throughputs from Data Collector)</th>\n",
       "    </tr>\n",
       "  </thead>\n",
       "  <tbody>\n",
       "    <tr>\n",
       "      <th>0</th>\n",
       "      <td>2645.0</td>\n",
       "      <td>0.000000</td>\n",
       "      <td>0.000000</td>\n",
       "      <td>0.00</td>\n",
       "      <td>0.25</td>\n",
       "      <td>4.140000</td>\n",
       "      <td>3.0</td>\n",
       "      <td>3.00</td>\n",
       "      <td>2.1</td>\n",
       "      <td>0.0</td>\n",
       "      <td>3.0</td>\n",
       "      <td>0.00</td>\n",
       "      <td>0.00</td>\n",
       "      <td>0.560000</td>\n",
       "      <td>16.100000</td>\n",
       "      <td>0.06</td>\n",
       "      <td>0.00</td>\n",
       "    </tr>\n",
       "    <tr>\n",
       "      <th>1</th>\n",
       "      <td>2725.0</td>\n",
       "      <td>0.000000</td>\n",
       "      <td>0.000000</td>\n",
       "      <td>0.00</td>\n",
       "      <td>0.23</td>\n",
       "      <td>11.290000</td>\n",
       "      <td>3.5</td>\n",
       "      <td>3.50</td>\n",
       "      <td>2.0</td>\n",
       "      <td>0.0</td>\n",
       "      <td>3.5</td>\n",
       "      <td>0.00</td>\n",
       "      <td>0.56</td>\n",
       "      <td>1.390000</td>\n",
       "      <td>17.280001</td>\n",
       "      <td>0.04</td>\n",
       "      <td>0.40</td>\n",
       "    </tr>\n",
       "    <tr>\n",
       "      <th>2</th>\n",
       "      <td>2805.0</td>\n",
       "      <td>0.000000</td>\n",
       "      <td>0.000000</td>\n",
       "      <td>0.00</td>\n",
       "      <td>0.08</td>\n",
       "      <td>1.180000</td>\n",
       "      <td>3.0</td>\n",
       "      <td>3.00</td>\n",
       "      <td>2.0</td>\n",
       "      <td>0.0</td>\n",
       "      <td>3.0</td>\n",
       "      <td>0.00</td>\n",
       "      <td>0.00</td>\n",
       "      <td>0.440000</td>\n",
       "      <td>11.180000</td>\n",
       "      <td>0.00</td>\n",
       "      <td>0.00</td>\n",
       "    </tr>\n",
       "    <tr>\n",
       "      <th>3</th>\n",
       "      <td>2841.0</td>\n",
       "      <td>0.000000</td>\n",
       "      <td>0.000000</td>\n",
       "      <td>0.00</td>\n",
       "      <td>0.26</td>\n",
       "      <td>9.050000</td>\n",
       "      <td>4.0</td>\n",
       "      <td>4.00</td>\n",
       "      <td>4.3</td>\n",
       "      <td>0.0</td>\n",
       "      <td>4.0</td>\n",
       "      <td>0.00</td>\n",
       "      <td>0.00</td>\n",
       "      <td>2.900000</td>\n",
       "      <td>16.030001</td>\n",
       "      <td>0.08</td>\n",
       "      <td>0.00</td>\n",
       "    </tr>\n",
       "    <tr>\n",
       "      <th>4</th>\n",
       "      <td>2923.0</td>\n",
       "      <td>0.000000</td>\n",
       "      <td>0.000000</td>\n",
       "      <td>0.00</td>\n",
       "      <td>0.08</td>\n",
       "      <td>3.620000</td>\n",
       "      <td>3.0</td>\n",
       "      <td>3.00</td>\n",
       "      <td>2.0</td>\n",
       "      <td>0.0</td>\n",
       "      <td>3.0</td>\n",
       "      <td>0.00</td>\n",
       "      <td>0.00</td>\n",
       "      <td>0.040000</td>\n",
       "      <td>7.010000</td>\n",
       "      <td>0.00</td>\n",
       "      <td>0.00</td>\n",
       "    </tr>\n",
       "    <tr>\n",
       "      <th>...</th>\n",
       "      <td>...</td>\n",
       "      <td>...</td>\n",
       "      <td>...</td>\n",
       "      <td>...</td>\n",
       "      <td>...</td>\n",
       "      <td>...</td>\n",
       "      <td>...</td>\n",
       "      <td>...</td>\n",
       "      <td>...</td>\n",
       "      <td>...</td>\n",
       "      <td>...</td>\n",
       "      <td>...</td>\n",
       "      <td>...</td>\n",
       "      <td>...</td>\n",
       "      <td>...</td>\n",
       "      <td>...</td>\n",
       "      <td>...</td>\n",
       "    </tr>\n",
       "    <tr>\n",
       "      <th>516</th>\n",
       "      <td>313.0</td>\n",
       "      <td>7.276864</td>\n",
       "      <td>5.289075</td>\n",
       "      <td>0.78</td>\n",
       "      <td>2.72</td>\n",
       "      <td>185.419998</td>\n",
       "      <td>3.8</td>\n",
       "      <td>0.14</td>\n",
       "      <td>2.1</td>\n",
       "      <td>0.4</td>\n",
       "      <td>0.1</td>\n",
       "      <td>0.78</td>\n",
       "      <td>2.06</td>\n",
       "      <td>5.220000</td>\n",
       "      <td>187.039993</td>\n",
       "      <td>1.01</td>\n",
       "      <td>2.19</td>\n",
       "    </tr>\n",
       "    <tr>\n",
       "      <th>517</th>\n",
       "      <td>315.0</td>\n",
       "      <td>7.276853</td>\n",
       "      <td>5.289315</td>\n",
       "      <td>0.78</td>\n",
       "      <td>2.32</td>\n",
       "      <td>178.399994</td>\n",
       "      <td>3.8</td>\n",
       "      <td>0.11</td>\n",
       "      <td>2.0</td>\n",
       "      <td>0.4</td>\n",
       "      <td>0.1</td>\n",
       "      <td>0.78</td>\n",
       "      <td>0.83</td>\n",
       "      <td>4.670000</td>\n",
       "      <td>177.919998</td>\n",
       "      <td>0.64</td>\n",
       "      <td>0.76</td>\n",
       "    </tr>\n",
       "    <tr>\n",
       "      <th>518</th>\n",
       "      <td>317.0</td>\n",
       "      <td>7.276837</td>\n",
       "      <td>5.289517</td>\n",
       "      <td>0.39</td>\n",
       "      <td>1.23</td>\n",
       "      <td>180.169998</td>\n",
       "      <td>8.7</td>\n",
       "      <td>0.96</td>\n",
       "      <td>2.0</td>\n",
       "      <td>0.4</td>\n",
       "      <td>1.0</td>\n",
       "      <td>0.52</td>\n",
       "      <td>1.04</td>\n",
       "      <td>3.390000</td>\n",
       "      <td>183.190002</td>\n",
       "      <td>0.64</td>\n",
       "      <td>1.62</td>\n",
       "    </tr>\n",
       "    <tr>\n",
       "      <th>519</th>\n",
       "      <td>319.0</td>\n",
       "      <td>7.276814</td>\n",
       "      <td>5.289655</td>\n",
       "      <td>0.78</td>\n",
       "      <td>6.45</td>\n",
       "      <td>178.699997</td>\n",
       "      <td>4.0</td>\n",
       "      <td>0.53</td>\n",
       "      <td>2.0</td>\n",
       "      <td>0.4</td>\n",
       "      <td>0.5</td>\n",
       "      <td>0.78</td>\n",
       "      <td>1.67</td>\n",
       "      <td>26.940001</td>\n",
       "      <td>184.380005</td>\n",
       "      <td>1.23</td>\n",
       "      <td>0.84</td>\n",
       "    </tr>\n",
       "    <tr>\n",
       "      <th>520</th>\n",
       "      <td>321.0</td>\n",
       "      <td>7.276801</td>\n",
       "      <td>5.289784</td>\n",
       "      <td>1.46</td>\n",
       "      <td>5.60</td>\n",
       "      <td>-0.151589</td>\n",
       "      <td>4.0</td>\n",
       "      <td>0.14</td>\n",
       "      <td>2.0</td>\n",
       "      <td>0.4</td>\n",
       "      <td>0.1</td>\n",
       "      <td>1.46</td>\n",
       "      <td>2.00</td>\n",
       "      <td>8.150000</td>\n",
       "      <td>179.009995</td>\n",
       "      <td>0.67</td>\n",
       "      <td>2.92</td>\n",
       "    </tr>\n",
       "  </tbody>\n",
       "</table>\n",
       "<p>521 rows × 17 columns</p>\n",
       "</div>"
      ],
      "text/plain": [
       "       Time  Latitude  Longitude  Total PDCP DL Throughput  \\\n",
       "0    2645.0  0.000000   0.000000                      0.00   \n",
       "1    2725.0  0.000000   0.000000                      0.00   \n",
       "2    2805.0  0.000000   0.000000                      0.00   \n",
       "3    2841.0  0.000000   0.000000                      0.00   \n",
       "4    2923.0  0.000000   0.000000                      0.00   \n",
       "..      ...       ...        ...                       ...   \n",
       "516   313.0  7.276864   5.289075                      0.78   \n",
       "517   315.0  7.276853   5.289315                      0.78   \n",
       "518   317.0  7.276837   5.289517                      0.39   \n",
       "519   319.0  7.276814   5.289655                      0.78   \n",
       "520   321.0  7.276801   5.289784                      1.46   \n",
       "\n",
       "     PDSCH Phy Throughput (kbps)  PUSCH Phy Throughput (kbps)  \\\n",
       "0                           0.25                     4.140000   \n",
       "1                           0.23                    11.290000   \n",
       "2                           0.08                     1.180000   \n",
       "3                           0.26                     9.050000   \n",
       "4                           0.08                     3.620000   \n",
       "..                           ...                          ...   \n",
       "516                         2.72                   185.419998   \n",
       "517                         2.32                   178.399994   \n",
       "518                         1.23                   180.169998   \n",
       "519                         6.45                   178.699997   \n",
       "520                         5.60                    -0.151589   \n",
       "\n",
       "     PDSCH Resource Blocks Allocated (Allocated Subframes Only)  \\\n",
       "0                                                  3.0            \n",
       "1                                                  3.5            \n",
       "2                                                  3.0            \n",
       "3                                                  4.0            \n",
       "4                                                  3.0            \n",
       "..                                                 ...            \n",
       "516                                                3.8            \n",
       "517                                                3.8            \n",
       "518                                                8.7            \n",
       "519                                                4.0            \n",
       "520                                                4.0            \n",
       "\n",
       "     PDSCH Resource Block Allocation (%)  \\\n",
       "0                                   3.00   \n",
       "1                                   3.50   \n",
       "2                                   3.00   \n",
       "3                                   4.00   \n",
       "4                                   3.00   \n",
       "..                                   ...   \n",
       "516                                 0.14   \n",
       "517                                 0.11   \n",
       "518                                 0.96   \n",
       "519                                 0.53   \n",
       "520                                 0.14   \n",
       "\n",
       "     PUSCH Resource Blocks Allocated (Allocated Subframes Only)  \\\n",
       "0                                                  2.1            \n",
       "1                                                  2.0            \n",
       "2                                                  2.0            \n",
       "3                                                  4.3            \n",
       "4                                                  2.0            \n",
       "..                                                 ...            \n",
       "516                                                2.1            \n",
       "517                                                2.0            \n",
       "518                                                2.0            \n",
       "519                                                2.0            \n",
       "520                                                2.0            \n",
       "\n",
       "     Number of PUSCH Resource Blocks  Number of PDSCH Resource Blocks  \\\n",
       "0                                0.0                              3.0   \n",
       "1                                0.0                              3.5   \n",
       "2                                0.0                              3.0   \n",
       "3                                0.0                              4.0   \n",
       "4                                0.0                              3.0   \n",
       "..                               ...                              ...   \n",
       "516                              0.4                              0.1   \n",
       "517                              0.4                              0.1   \n",
       "518                              0.4                              1.0   \n",
       "519                              0.4                              0.5   \n",
       "520                              0.4                              0.1   \n",
       "\n",
       "     PDCP Throughput DL (kbps)  PDCP Throughput UL (kbps)  \\\n",
       "0                         0.00                       0.00   \n",
       "1                         0.00                       0.56   \n",
       "2                         0.00                       0.00   \n",
       "3                         0.00                       0.00   \n",
       "4                         0.00                       0.00   \n",
       "..                         ...                        ...   \n",
       "516                       0.78                       2.06   \n",
       "517                       0.78                       0.83   \n",
       "518                       0.52                       1.04   \n",
       "519                       0.78                       1.67   \n",
       "520                       1.46                       2.00   \n",
       "\n",
       "     PHY Layer Throughput PDSCH (kbps)  PHY Layer Throughput PUSCH (kbps)  \\\n",
       "0                             0.560000                          16.100000   \n",
       "1                             1.390000                          17.280001   \n",
       "2                             0.440000                          11.180000   \n",
       "3                             2.900000                          16.030001   \n",
       "4                             0.040000                           7.010000   \n",
       "..                                 ...                                ...   \n",
       "516                           5.220000                         187.039993   \n",
       "517                           4.670000                         177.919998   \n",
       "518                           3.390000                         183.190002   \n",
       "519                          26.940001                         184.380005   \n",
       "520                           8.150000                         179.009995   \n",
       "\n",
       "     RLC Throughput DL (kbps)(LTE Throughputs from Data Collector)  \\\n",
       "0                                                 0.06               \n",
       "1                                                 0.04               \n",
       "2                                                 0.00               \n",
       "3                                                 0.08               \n",
       "4                                                 0.00               \n",
       "..                                                 ...               \n",
       "516                                               1.01               \n",
       "517                                               0.64               \n",
       "518                                               0.64               \n",
       "519                                               1.23               \n",
       "520                                               0.67               \n",
       "\n",
       "     RLC Throughput UL (kbps)(LTE Throughputs from Data Collector)  \n",
       "0                                                 0.00              \n",
       "1                                                 0.40              \n",
       "2                                                 0.00              \n",
       "3                                                 0.00              \n",
       "4                                                 0.00              \n",
       "..                                                 ...              \n",
       "516                                               2.19              \n",
       "517                                               0.76              \n",
       "518                                               1.62              \n",
       "519                                               0.84              \n",
       "520                                               2.92              \n",
       "\n",
       "[521 rows x 17 columns]"
      ]
     },
     "execution_count": 20,
     "metadata": {},
     "output_type": "execute_result"
    }
   ],
   "source": [
    "df"
   ]
  },
  {
   "cell_type": "code",
   "execution_count": 4,
   "id": "423ddd80",
   "metadata": {},
   "outputs": [],
   "source": [
    "df.drop('Date', axis =1, inplace = True)"
   ]
  },
  {
   "cell_type": "code",
   "execution_count": 5,
   "id": "6abd14f1",
   "metadata": {},
   "outputs": [],
   "source": [
    "df.drop(\"Total PDCP UL Throughput\", axis=1, inplace=True)\n",
    "\n"
   ]
  },
  {
   "cell_type": "code",
   "execution_count": 6,
   "id": "42bfb559",
   "metadata": {},
   "outputs": [],
   "source": [
    "X = df.drop('Total PDCP DL Throughput',axis=1)\n",
    "y = df['Total PDCP DL Throughput']"
   ]
  },
  {
   "cell_type": "code",
   "execution_count": 7,
   "id": "28c060ac",
   "metadata": {},
   "outputs": [],
   "source": [
    "X_train, X_test, y_train, y_test = train_test_split(X, y, test_size=0.3, random_state=101)"
   ]
  },
  {
   "cell_type": "code",
   "execution_count": 8,
   "id": "8c9d2499",
   "metadata": {},
   "outputs": [],
   "source": [
    "param_grid = {'C':[0.001,0.01,0.1,0.5,1],\n",
    "              'gamma':['scale','auto'],}"
   ]
  },
  {
   "cell_type": "code",
   "execution_count": 9,
   "id": "6224057c",
   "metadata": {},
   "outputs": [],
   "source": [
    "from sklearn.model_selection import GridSearchCV"
   ]
  },
  {
   "cell_type": "code",
   "execution_count": 10,
   "id": "cae16aa9",
   "metadata": {},
   "outputs": [],
   "source": [
    "svr = SVR()\n",
    "grid = GridSearchCV(svr,param_grid=param_grid)"
   ]
  },
  {
   "cell_type": "code",
   "execution_count": 11,
   "id": "80f5f56f",
   "metadata": {},
   "outputs": [
    {
     "data": {
      "text/plain": [
       "GridSearchCV(estimator=SVR(),\n",
       "             param_grid={'C': [0.001, 0.01, 0.1, 0.5, 1],\n",
       "                         'gamma': ['scale', 'auto']})"
      ]
     },
     "execution_count": 11,
     "metadata": {},
     "output_type": "execute_result"
    }
   ],
   "source": [
    "grid.fit(X_train,y_train)"
   ]
  },
  {
   "cell_type": "code",
   "execution_count": 12,
   "id": "0d3d9119",
   "metadata": {},
   "outputs": [
    {
     "data": {
      "text/plain": [
       "{'C': 0.1, 'gamma': 'auto'}"
      ]
     },
     "execution_count": 12,
     "metadata": {},
     "output_type": "execute_result"
    }
   ],
   "source": [
    "grid.best_params_"
   ]
  },
  {
   "cell_type": "code",
   "execution_count": 13,
   "id": "af2d8e13",
   "metadata": {},
   "outputs": [],
   "source": [
    "grid_pred = grid.predict(X_test)"
   ]
  },
  {
   "cell_type": "code",
   "execution_count": 14,
   "id": "5ab426ec",
   "metadata": {},
   "outputs": [
    {
     "data": {
      "text/plain": [
       "0.30700594908285317"
      ]
     },
     "execution_count": 14,
     "metadata": {},
     "output_type": "execute_result"
    }
   ],
   "source": [
    "mean_absolute_error(y_test,grid_pred)"
   ]
  },
  {
   "cell_type": "code",
   "execution_count": 15,
   "id": "2c2be7e3",
   "metadata": {},
   "outputs": [
    {
     "data": {
      "text/plain": [
       "0.4203885052753625"
      ]
     },
     "execution_count": 15,
     "metadata": {},
     "output_type": "execute_result"
    }
   ],
   "source": [
    "np.sqrt(mean_squared_error(y_test,grid_pred))"
   ]
  },
  {
   "cell_type": "code",
   "execution_count": 16,
   "id": "5139aa2c",
   "metadata": {},
   "outputs": [
    {
     "data": {
      "text/plain": [
       "0.17672649536765345"
      ]
     },
     "execution_count": 16,
     "metadata": {},
     "output_type": "execute_result"
    }
   ],
   "source": [
    "mean_squared_error(y_test,grid_pred)"
   ]
  },
  {
   "cell_type": "code",
   "execution_count": 17,
   "id": "d2b7bffc",
   "metadata": {},
   "outputs": [],
   "source": [
    "score = r2_score(y_test, grid_pred)"
   ]
  },
  {
   "cell_type": "code",
   "execution_count": 18,
   "id": "85d21173",
   "metadata": {},
   "outputs": [
    {
     "data": {
      "text/plain": [
       "-0.014876960609378598"
      ]
     },
     "execution_count": 18,
     "metadata": {},
     "output_type": "execute_result"
    }
   ],
   "source": [
    "score\n"
   ]
  },
  {
   "cell_type": "code",
   "execution_count": 19,
   "id": "8f032b61",
   "metadata": {},
   "outputs": [
    {
     "data": {
      "text/plain": [
       "0.931132420558539"
      ]
     },
     "execution_count": 19,
     "metadata": {},
     "output_type": "execute_result"
    }
   ],
   "source": [
    "df['Total PDCP DL Throughput'].mean()"
   ]
  },
  {
   "cell_type": "code",
   "execution_count": null,
   "id": "ca805a7a",
   "metadata": {},
   "outputs": [],
   "source": []
  }
 ],
 "metadata": {
  "kernelspec": {
   "display_name": "Python 3 (ipykernel)",
   "language": "python",
   "name": "python3"
  },
  "language_info": {
   "codemirror_mode": {
    "name": "ipython",
    "version": 3
   },
   "file_extension": ".py",
   "mimetype": "text/x-python",
   "name": "python",
   "nbconvert_exporter": "python",
   "pygments_lexer": "ipython3",
   "version": "3.9.13"
  }
 },
 "nbformat": 4,
 "nbformat_minor": 5
}
