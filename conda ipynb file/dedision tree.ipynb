{
 "cells": [
  {
   "cell_type": "code",
   "execution_count": 52,
   "id": "4a0aca40",
   "metadata": {},
   "outputs": [],
   "source": [
    "#Importing data preprocessing libraries \n",
    "import pandas as pd\n",
    "import numpy as np\n",
    "\n",
    "#Turning off warning messages\n",
    "import warnings\n",
    "warnings.filterwarnings(\"ignore\")\n",
    "warnings.filterwarnings(\"ignore\", category=DeprecationWarning)\n",
    "\n",
    "#Importing visualization libraries \n",
    "import matplotlib.pyplot as plt\n",
    "%matplotlib inline \n",
    "import seaborn as sns\n",
    "\n",
    "#Importing machine learning libs \n",
    "from sklearn.model_selection import train_test_split\n",
    "\n",
    "from sklearn.metrics import accuracy_score\n",
    "from sklearn.metrics import confusion_matrix,classification_report,plot_confusion_matrix\n",
    "from sklearn.preprocessing import StandardScaler\n",
    "from sklearn.linear_model import LogisticRegressionCV \n",
    "from sklearn.linear_model import LogisticRegression\n",
    "from sklearn.tree import DecisionTreeClassifier\n",
    "from sklearn.metrics import r2_score\n",
    "from sklearn.metrics import f1_score\n",
    "from sklearn.linear_model import LinearRegression\n",
    "from sklearn.metrics import mean_absolute_error,mean_squared_error\n",
    "from sklearn.metrics import plot_precision_recall_curve,plot_roc_curve\n",
    "from sklearn.metrics import classification_report\n",
    "\n"
   ]
  },
  {
   "cell_type": "code",
   "execution_count": 53,
   "id": "b806b7c7",
   "metadata": {
    "scrolled": true
   },
   "outputs": [],
   "source": [
    "df = pd.read_csv('callperformance.csv')"
   ]
  },
  {
   "cell_type": "code",
   "execution_count": 54,
   "id": "b1178a5a",
   "metadata": {},
   "outputs": [
    {
     "data": {
      "text/html": [
       "<div>\n",
       "<style scoped>\n",
       "    .dataframe tbody tr th:only-of-type {\n",
       "        vertical-align: middle;\n",
       "    }\n",
       "\n",
       "    .dataframe tbody tr th {\n",
       "        vertical-align: top;\n",
       "    }\n",
       "\n",
       "    .dataframe thead th {\n",
       "        text-align: right;\n",
       "    }\n",
       "</style>\n",
       "<table border=\"1\" class=\"dataframe\">\n",
       "  <thead>\n",
       "    <tr style=\"text-align: right;\">\n",
       "      <th></th>\n",
       "      <th>Unnamed: 0</th>\n",
       "      <th>Time</th>\n",
       "      <th>Latitude</th>\n",
       "      <th>Longitude</th>\n",
       "      <th>Call Established/Calldrop</th>\n",
       "      <th>Agg. Active RSCP (dBm)</th>\n",
       "      <th>Agg. Active Ec/Io (dB)</th>\n",
       "      <th>UE Received Power (RSSI - dBm): Top #1</th>\n",
       "    </tr>\n",
       "  </thead>\n",
       "  <tbody>\n",
       "    <tr>\n",
       "      <th>0</th>\n",
       "      <td>0</td>\n",
       "      <td>2741.0</td>\n",
       "      <td>7.302863</td>\n",
       "      <td>5.149358</td>\n",
       "      <td>1</td>\n",
       "      <td>-79.699997</td>\n",
       "      <td>-15.7</td>\n",
       "      <td>-63.900002</td>\n",
       "    </tr>\n",
       "    <tr>\n",
       "      <th>1</th>\n",
       "      <td>1</td>\n",
       "      <td>2826.5</td>\n",
       "      <td>7.301352</td>\n",
       "      <td>5.151550</td>\n",
       "      <td>0</td>\n",
       "      <td>0.000000</td>\n",
       "      <td>0.0</td>\n",
       "      <td>0.000000</td>\n",
       "    </tr>\n",
       "    <tr>\n",
       "      <th>2</th>\n",
       "      <td>2</td>\n",
       "      <td>3225.0</td>\n",
       "      <td>7.287465</td>\n",
       "      <td>5.165219</td>\n",
       "      <td>1</td>\n",
       "      <td>-69.199997</td>\n",
       "      <td>-8.7</td>\n",
       "      <td>-60.799999</td>\n",
       "    </tr>\n",
       "    <tr>\n",
       "      <th>3</th>\n",
       "      <td>3</td>\n",
       "      <td>3307.0</td>\n",
       "      <td>7.286134</td>\n",
       "      <td>5.168570</td>\n",
       "      <td>0</td>\n",
       "      <td>-68.000000</td>\n",
       "      <td>3.3</td>\n",
       "      <td>0.000000</td>\n",
       "    </tr>\n",
       "    <tr>\n",
       "      <th>4</th>\n",
       "      <td>4</td>\n",
       "      <td>3941.0</td>\n",
       "      <td>7.281025</td>\n",
       "      <td>5.191569</td>\n",
       "      <td>1</td>\n",
       "      <td>-73.099998</td>\n",
       "      <td>-10.7</td>\n",
       "      <td>-60.400002</td>\n",
       "    </tr>\n",
       "    <tr>\n",
       "      <th>...</th>\n",
       "      <td>...</td>\n",
       "      <td>...</td>\n",
       "      <td>...</td>\n",
       "      <td>...</td>\n",
       "      <td>...</td>\n",
       "      <td>...</td>\n",
       "      <td>...</td>\n",
       "      <td>...</td>\n",
       "    </tr>\n",
       "    <tr>\n",
       "      <th>165</th>\n",
       "      <td>165</td>\n",
       "      <td>2653.0</td>\n",
       "      <td>7.267527</td>\n",
       "      <td>5.161787</td>\n",
       "      <td>1</td>\n",
       "      <td>-68.599998</td>\n",
       "      <td>3.0</td>\n",
       "      <td>0.000000</td>\n",
       "    </tr>\n",
       "    <tr>\n",
       "      <th>166</th>\n",
       "      <td>166</td>\n",
       "      <td>3135.0</td>\n",
       "      <td>7.275255</td>\n",
       "      <td>5.152578</td>\n",
       "      <td>1</td>\n",
       "      <td>-69.400002</td>\n",
       "      <td>3.2</td>\n",
       "      <td>0.000000</td>\n",
       "    </tr>\n",
       "    <tr>\n",
       "      <th>167</th>\n",
       "      <td>167</td>\n",
       "      <td>3535.0</td>\n",
       "      <td>7.286213</td>\n",
       "      <td>5.153009</td>\n",
       "      <td>1</td>\n",
       "      <td>-66.900002</td>\n",
       "      <td>3.9</td>\n",
       "      <td>0.000000</td>\n",
       "    </tr>\n",
       "    <tr>\n",
       "      <th>168</th>\n",
       "      <td>168</td>\n",
       "      <td>3933.0</td>\n",
       "      <td>7.296255</td>\n",
       "      <td>5.149453</td>\n",
       "      <td>1</td>\n",
       "      <td>-63.900002</td>\n",
       "      <td>3.5</td>\n",
       "      <td>0.000000</td>\n",
       "    </tr>\n",
       "    <tr>\n",
       "      <th>169</th>\n",
       "      <td>169</td>\n",
       "      <td>4339.0</td>\n",
       "      <td>7.296963</td>\n",
       "      <td>5.135581</td>\n",
       "      <td>1</td>\n",
       "      <td>-73.300003</td>\n",
       "      <td>0.0</td>\n",
       "      <td>0.000000</td>\n",
       "    </tr>\n",
       "  </tbody>\n",
       "</table>\n",
       "<p>170 rows × 8 columns</p>\n",
       "</div>"
      ],
      "text/plain": [
       "     Unnamed: 0    Time  Latitude  Longitude  Call Established/Calldrop  \\\n",
       "0             0  2741.0  7.302863   5.149358                          1   \n",
       "1             1  2826.5  7.301352   5.151550                          0   \n",
       "2             2  3225.0  7.287465   5.165219                          1   \n",
       "3             3  3307.0  7.286134   5.168570                          0   \n",
       "4             4  3941.0  7.281025   5.191569                          1   \n",
       "..          ...     ...       ...        ...                        ...   \n",
       "165         165  2653.0  7.267527   5.161787                          1   \n",
       "166         166  3135.0  7.275255   5.152578                          1   \n",
       "167         167  3535.0  7.286213   5.153009                          1   \n",
       "168         168  3933.0  7.296255   5.149453                          1   \n",
       "169         169  4339.0  7.296963   5.135581                          1   \n",
       "\n",
       "     Agg. Active RSCP (dBm)  Agg. Active Ec/Io (dB)  \\\n",
       "0                -79.699997                   -15.7   \n",
       "1                  0.000000                     0.0   \n",
       "2                -69.199997                    -8.7   \n",
       "3                -68.000000                     3.3   \n",
       "4                -73.099998                   -10.7   \n",
       "..                      ...                     ...   \n",
       "165              -68.599998                     3.0   \n",
       "166              -69.400002                     3.2   \n",
       "167              -66.900002                     3.9   \n",
       "168              -63.900002                     3.5   \n",
       "169              -73.300003                     0.0   \n",
       "\n",
       "     UE Received Power (RSSI - dBm): Top #1  \n",
       "0                                -63.900002  \n",
       "1                                  0.000000  \n",
       "2                                -60.799999  \n",
       "3                                  0.000000  \n",
       "4                                -60.400002  \n",
       "..                                      ...  \n",
       "165                                0.000000  \n",
       "166                                0.000000  \n",
       "167                                0.000000  \n",
       "168                                0.000000  \n",
       "169                                0.000000  \n",
       "\n",
       "[170 rows x 8 columns]"
      ]
     },
     "execution_count": 54,
     "metadata": {},
     "output_type": "execute_result"
    }
   ],
   "source": [
    "df"
   ]
  },
  {
   "cell_type": "code",
   "execution_count": 55,
   "id": "6d5d4626",
   "metadata": {},
   "outputs": [],
   "source": [
    "df.drop('Unnamed: 0', axis =1, inplace = True)"
   ]
  },
  {
   "cell_type": "code",
   "execution_count": 56,
   "id": "8c984e17",
   "metadata": {},
   "outputs": [
    {
     "data": {
      "text/html": [
       "<div>\n",
       "<style scoped>\n",
       "    .dataframe tbody tr th:only-of-type {\n",
       "        vertical-align: middle;\n",
       "    }\n",
       "\n",
       "    .dataframe tbody tr th {\n",
       "        vertical-align: top;\n",
       "    }\n",
       "\n",
       "    .dataframe thead th {\n",
       "        text-align: right;\n",
       "    }\n",
       "</style>\n",
       "<table border=\"1\" class=\"dataframe\">\n",
       "  <thead>\n",
       "    <tr style=\"text-align: right;\">\n",
       "      <th></th>\n",
       "      <th>Time</th>\n",
       "      <th>Latitude</th>\n",
       "      <th>Longitude</th>\n",
       "      <th>Call Established/Calldrop</th>\n",
       "      <th>Agg. Active RSCP (dBm)</th>\n",
       "      <th>Agg. Active Ec/Io (dB)</th>\n",
       "      <th>UE Received Power (RSSI - dBm): Top #1</th>\n",
       "    </tr>\n",
       "  </thead>\n",
       "  <tbody>\n",
       "    <tr>\n",
       "      <th>0</th>\n",
       "      <td>2741.0</td>\n",
       "      <td>7.302863</td>\n",
       "      <td>5.149358</td>\n",
       "      <td>1</td>\n",
       "      <td>-79.699997</td>\n",
       "      <td>-15.7</td>\n",
       "      <td>-63.900002</td>\n",
       "    </tr>\n",
       "    <tr>\n",
       "      <th>1</th>\n",
       "      <td>2826.5</td>\n",
       "      <td>7.301352</td>\n",
       "      <td>5.151550</td>\n",
       "      <td>0</td>\n",
       "      <td>0.000000</td>\n",
       "      <td>0.0</td>\n",
       "      <td>0.000000</td>\n",
       "    </tr>\n",
       "    <tr>\n",
       "      <th>2</th>\n",
       "      <td>3225.0</td>\n",
       "      <td>7.287465</td>\n",
       "      <td>5.165219</td>\n",
       "      <td>1</td>\n",
       "      <td>-69.199997</td>\n",
       "      <td>-8.7</td>\n",
       "      <td>-60.799999</td>\n",
       "    </tr>\n",
       "    <tr>\n",
       "      <th>3</th>\n",
       "      <td>3307.0</td>\n",
       "      <td>7.286134</td>\n",
       "      <td>5.168570</td>\n",
       "      <td>0</td>\n",
       "      <td>-68.000000</td>\n",
       "      <td>3.3</td>\n",
       "      <td>0.000000</td>\n",
       "    </tr>\n",
       "    <tr>\n",
       "      <th>4</th>\n",
       "      <td>3941.0</td>\n",
       "      <td>7.281025</td>\n",
       "      <td>5.191569</td>\n",
       "      <td>1</td>\n",
       "      <td>-73.099998</td>\n",
       "      <td>-10.7</td>\n",
       "      <td>-60.400002</td>\n",
       "    </tr>\n",
       "    <tr>\n",
       "      <th>...</th>\n",
       "      <td>...</td>\n",
       "      <td>...</td>\n",
       "      <td>...</td>\n",
       "      <td>...</td>\n",
       "      <td>...</td>\n",
       "      <td>...</td>\n",
       "      <td>...</td>\n",
       "    </tr>\n",
       "    <tr>\n",
       "      <th>165</th>\n",
       "      <td>2653.0</td>\n",
       "      <td>7.267527</td>\n",
       "      <td>5.161787</td>\n",
       "      <td>1</td>\n",
       "      <td>-68.599998</td>\n",
       "      <td>3.0</td>\n",
       "      <td>0.000000</td>\n",
       "    </tr>\n",
       "    <tr>\n",
       "      <th>166</th>\n",
       "      <td>3135.0</td>\n",
       "      <td>7.275255</td>\n",
       "      <td>5.152578</td>\n",
       "      <td>1</td>\n",
       "      <td>-69.400002</td>\n",
       "      <td>3.2</td>\n",
       "      <td>0.000000</td>\n",
       "    </tr>\n",
       "    <tr>\n",
       "      <th>167</th>\n",
       "      <td>3535.0</td>\n",
       "      <td>7.286213</td>\n",
       "      <td>5.153009</td>\n",
       "      <td>1</td>\n",
       "      <td>-66.900002</td>\n",
       "      <td>3.9</td>\n",
       "      <td>0.000000</td>\n",
       "    </tr>\n",
       "    <tr>\n",
       "      <th>168</th>\n",
       "      <td>3933.0</td>\n",
       "      <td>7.296255</td>\n",
       "      <td>5.149453</td>\n",
       "      <td>1</td>\n",
       "      <td>-63.900002</td>\n",
       "      <td>3.5</td>\n",
       "      <td>0.000000</td>\n",
       "    </tr>\n",
       "    <tr>\n",
       "      <th>169</th>\n",
       "      <td>4339.0</td>\n",
       "      <td>7.296963</td>\n",
       "      <td>5.135581</td>\n",
       "      <td>1</td>\n",
       "      <td>-73.300003</td>\n",
       "      <td>0.0</td>\n",
       "      <td>0.000000</td>\n",
       "    </tr>\n",
       "  </tbody>\n",
       "</table>\n",
       "<p>170 rows × 7 columns</p>\n",
       "</div>"
      ],
      "text/plain": [
       "       Time  Latitude  Longitude  Call Established/Calldrop  \\\n",
       "0    2741.0  7.302863   5.149358                          1   \n",
       "1    2826.5  7.301352   5.151550                          0   \n",
       "2    3225.0  7.287465   5.165219                          1   \n",
       "3    3307.0  7.286134   5.168570                          0   \n",
       "4    3941.0  7.281025   5.191569                          1   \n",
       "..      ...       ...        ...                        ...   \n",
       "165  2653.0  7.267527   5.161787                          1   \n",
       "166  3135.0  7.275255   5.152578                          1   \n",
       "167  3535.0  7.286213   5.153009                          1   \n",
       "168  3933.0  7.296255   5.149453                          1   \n",
       "169  4339.0  7.296963   5.135581                          1   \n",
       "\n",
       "     Agg. Active RSCP (dBm)  Agg. Active Ec/Io (dB)  \\\n",
       "0                -79.699997                   -15.7   \n",
       "1                  0.000000                     0.0   \n",
       "2                -69.199997                    -8.7   \n",
       "3                -68.000000                     3.3   \n",
       "4                -73.099998                   -10.7   \n",
       "..                      ...                     ...   \n",
       "165              -68.599998                     3.0   \n",
       "166              -69.400002                     3.2   \n",
       "167              -66.900002                     3.9   \n",
       "168              -63.900002                     3.5   \n",
       "169              -73.300003                     0.0   \n",
       "\n",
       "     UE Received Power (RSSI - dBm): Top #1  \n",
       "0                                -63.900002  \n",
       "1                                  0.000000  \n",
       "2                                -60.799999  \n",
       "3                                  0.000000  \n",
       "4                                -60.400002  \n",
       "..                                      ...  \n",
       "165                                0.000000  \n",
       "166                                0.000000  \n",
       "167                                0.000000  \n",
       "168                                0.000000  \n",
       "169                                0.000000  \n",
       "\n",
       "[170 rows x 7 columns]"
      ]
     },
     "execution_count": 56,
     "metadata": {},
     "output_type": "execute_result"
    }
   ],
   "source": [
    "df"
   ]
  },
  {
   "cell_type": "code",
   "execution_count": 57,
   "id": "41d8105b",
   "metadata": {},
   "outputs": [],
   "source": [
    "X = df.drop('Call Established/Calldrop',axis=1)\n",
    "y = df['Call Established/Calldrop']"
   ]
  },
  {
   "cell_type": "code",
   "execution_count": 58,
   "id": "e5bea270",
   "metadata": {},
   "outputs": [],
   "source": [
    "X_train, X_test, y_train, y_test = train_test_split(X, y, test_size=0.3, random_state=101)"
   ]
  },
  {
   "cell_type": "code",
   "execution_count": 59,
   "id": "8063bfab",
   "metadata": {},
   "outputs": [],
   "source": [
    "from sklearn.tree import DecisionTreeClassifier"
   ]
  },
  {
   "cell_type": "code",
   "execution_count": 60,
   "id": "2f8aea11",
   "metadata": {},
   "outputs": [],
   "source": [
    "model = DecisionTreeClassifier()"
   ]
  },
  {
   "cell_type": "code",
   "execution_count": 61,
   "id": "6a10dd14",
   "metadata": {},
   "outputs": [
    {
     "data": {
      "text/plain": [
       "DecisionTreeClassifier()"
      ]
     },
     "execution_count": 61,
     "metadata": {},
     "output_type": "execute_result"
    }
   ],
   "source": [
    "model.fit(X_train,y_train)"
   ]
  },
  {
   "cell_type": "code",
   "execution_count": 62,
   "id": "cd7275f8",
   "metadata": {},
   "outputs": [],
   "source": [
    "base_pred = model.predict(X_test)"
   ]
  },
  {
   "cell_type": "code",
   "execution_count": 63,
   "id": "b1ff55d1",
   "metadata": {},
   "outputs": [
    {
     "data": {
      "text/plain": [
       "0.9019607843137255"
      ]
     },
     "execution_count": 63,
     "metadata": {},
     "output_type": "execute_result"
    }
   ],
   "source": [
    "accuracy_score(y_test,base_pred)"
   ]
  },
  {
   "cell_type": "code",
   "execution_count": 64,
   "id": "278594c8",
   "metadata": {},
   "outputs": [],
   "source": [
    "from sklearn.metrics import confusion_matrix,classification_report,plot_confusion_matrix"
   ]
  },
  {
   "cell_type": "code",
   "execution_count": 65,
   "id": "763ac760",
   "metadata": {},
   "outputs": [
    {
     "data": {
      "text/plain": [
       "array([[ 0,  2],\n",
       "       [ 3, 46]], dtype=int64)"
      ]
     },
     "execution_count": 65,
     "metadata": {},
     "output_type": "execute_result"
    }
   ],
   "source": [
    "confusion_matrix(y_test,base_pred)"
   ]
  },
  {
   "cell_type": "code",
   "execution_count": 66,
   "id": "5de3801d",
   "metadata": {},
   "outputs": [
    {
     "data": {
      "text/plain": [
       "<sklearn.metrics._plot.confusion_matrix.ConfusionMatrixDisplay at 0x1f37f8a8fd0>"
      ]
     },
     "execution_count": 66,
     "metadata": {},
     "output_type": "execute_result"
    },
    {
     "data": {
      "image/png": "[encoded data removed]",
      "text/plain": [
       "<Figure size 640x480 with 2 Axes>"
      ]
     },
     "metadata": {},
     "output_type": "display_data"
    }
   ],
   "source": [
    "plot_confusion_matrix(model,X_test,y_test)"
   ]
  },
  {
   "cell_type": "code",
   "execution_count": 67,
   "id": "24a5f32b",
   "metadata": {},
   "outputs": [
    {
     "name": "stdout",
     "output_type": "stream",
     "text": [
      "              precision    recall  f1-score   support\n",
      "\n",
      "           0       0.00      0.00      0.00         2\n",
      "           1       0.96      0.94      0.95        49\n",
      "\n",
      "    accuracy                           0.90        51\n",
      "   macro avg       0.48      0.47      0.47        51\n",
      "weighted avg       0.92      0.90      0.91        51\n",
      "\n"
     ]
    }
   ],
   "source": [
    "print(classification_report(y_test,base_pred))"
   ]
  },
  {
   "cell_type": "code",
   "execution_count": 68,
   "id": "c7a05e1b",
   "metadata": {},
   "outputs": [],
   "source": [
    "score1 = r2_score(y_test,base_pred)"
   ]
  },
  {
   "cell_type": "code",
   "execution_count": 69,
   "id": "0571be01",
   "metadata": {},
   "outputs": [
    {
     "data": {
      "text/plain": [
       "-1.602040816326531"
      ]
     },
     "execution_count": 69,
     "metadata": {},
     "output_type": "execute_result"
    }
   ],
   "source": [
    "score1"
   ]
  },
  {
   "cell_type": "code",
   "execution_count": null,
   "id": "874fdfc0",
   "metadata": {},
   "outputs": [],
   "source": [
    "import matplotlib.pyplot as plt\n",
    "import numpy as np\n",
    "from sklearn import datasets\n",
    "from sklearn.linear_model import LogisticRegression\n",
    "from sklearn.tree import DecisionTreeClassifier\n",
    "from sklearn.metrics import classification_report\n",
    "\n",
    "# Load the iris dataset\n",
    "iris = datasets.load_iris()\n",
    "X = mtn.drop('Call Established/Calldrop',axis=1)\n",
    "y = mtn['Call Established/Calldrop']\n",
    "\n",
    "# Split the data into train and test sets\n",
    "from sklearn.model_selection import train_test_split\n",
    "X_train, X_test, y_train, y_test = train_test_split(X, y, test_size=0.3, random_state=0)\n",
    "\n",
    "# Train a logistic regression classifier\n",
    "clf_lr = LogisticRegression(random_state=0)\n",
    "clf_lr.fit(X_train, y_train)\n",
    "\n",
    "# Train a decision tree classifier\n",
    "clf_dt = DecisionTreeClassifier(random_state=0)\n",
    "clf_dt.fit(X_train, y_train)\n",
    "\n",
    "# Predict the classes of the test data\n",
    "y_pred_lr = clf_lr.predict(X_test)\n",
    "y_pred_dt = clf_dt.predict(X_test)\n",
    "\n",
    "# Compute the classification reports\n",
    "report_lr = classification_report(y_test, y_pred_lr, output_dict=True)\n",
    "report_dt = classification_report(y_test, y_pred_dt, output_dict=True)\n",
    "\n",
    "# Plot the bar charts\n",
    "labels = ['precision', 'recall', 'f1-score']\n",
    "x = np.arange(len(labels))\n",
    "width = 0.35\n",
    "\n",
    "fig, ax = plt.subplots()\n",
    "rects1 = ax.bar(x - width/2, [report_lr[label][0] for label in labels], width, label='Logistic Regression')\n",
    "rects2 = ax.bar(x + width/2, [report_dt[label][0] for label in labels], width, label='Decision Tree')\n",
    "\n",
    "ax.set_ylabel('Score')\n",
    "ax.set_title('Classification Report')\n",
    "ax.set_xticks(x)\n",
    "ax.set_xticklabels(labels)\n",
    "ax.legend()\n",
    "\n",
    "def autolabel(rects):\n",
    "    for rect in rects:\n",
    "        height = rect.get_height()\n",
    "        ax.annotate('{:.2f}'.format(height),\n",
    "                    xy=(rect.get_x() + rect.get_width() / 2, height),\n",
    "                    xytext=(0, 3),  # 3 points vertical offset\n",
    "                    textcoords=\"offset points\",\n",
    "                    ha='center', va='bottom')\n",
    "\n",
    "autolabel(rects1)\n",
    "autolabel(rects2)\n",
    "\n",
    "fig.tight_layout()\n",
    "plt.show("
   ]
  },
  {
   "cell_type": "code",
   "execution_count": null,
   "id": "35b3e608",
   "metadata": {},
   "outputs": [],
   "source": []
  }
 ],
 "metadata": {
  "kernelspec": {
   "display_name": "Python 3 (ipykernel)",
   "language": "python",
   "name": "python3"
  },
  "language_info": {
   "codemirror_mode": {
    "name": "ipython",
    "version": 3
   },
   "file_extension": ".py",
   "mimetype": "text/x-python",
   "name": "python",
   "nbconvert_exporter": "python",
   "pygments_lexer": "ipython3",
   "version": "3.9.13"
  }
 },
 "nbformat": 4,
 "nbformat_minor": 5
}
