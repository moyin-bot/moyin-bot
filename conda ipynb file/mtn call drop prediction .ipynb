{
 "cells": [
  {
   "cell_type": "code",
   "execution_count": 1,
   "id": "2774b97b",
   "metadata": {},
   "outputs": [],
   "source": [
    "#Importing data preprocessing libraries \n",
    "import pandas as pd\n",
    "import numpy as np\n",
    "\n",
    "#Turning off warning messages\n",
    "import warnings\n",
    "warnings.filterwarnings(\"ignore\")\n",
    "warnings.filterwarnings(\"ignore\", category=DeprecationWarning)\n",
    "\n",
    "#Importing visualization libraries \n",
    "import matplotlib.pyplot as plt\n",
    "%matplotlib inline \n",
    "import seaborn as sns\n",
    "\n",
    "#Importing machine learning libs \n",
    "from sklearn.model_selection import train_test_split\n",
    "\n",
    "\n",
    "from sklearn.metrics import confusion_matrix,classification_report,plot_confusion_matrix\n",
    "from sklearn.preprocessing import StandardScaler\n",
    "from sklearn.linear_model import LogisticRegressionCV \n",
    "from sklearn.linear_model import LogisticRegression\n",
    "from sklearn.tree import DecisionTreeClassifier\n",
    "from sklearn.metrics import r2_score\n",
    "from sklearn.metrics import f1_score\n",
    "from sklearn.linear_model import LinearRegression\n",
    "from sklearn.metrics import mean_absolute_error,mean_squared_error\n",
    "from sklearn.metrics import plot_precision_recall_curve,plot_roc_curve\n",
    "from sklearn.metrics import classification_report\n",
    "\n"
   ]
  },
  {
   "cell_type": "code",
   "execution_count": 2,
   "id": "6baecf31",
   "metadata": {},
   "outputs": [],
   "source": [
    "df = pd.read_csv('mtn.csv')"
   ]
  },
  {
   "cell_type": "code",
   "execution_count": 3,
   "id": "6b785faf",
   "metadata": {},
   "outputs": [
    {
     "data": {
      "text/html": [
       "<div>\n",
       "<style scoped>\n",
       "    .dataframe tbody tr th:only-of-type {\n",
       "        vertical-align: middle;\n",
       "    }\n",
       "\n",
       "    .dataframe tbody tr th {\n",
       "        vertical-align: top;\n",
       "    }\n",
       "\n",
       "    .dataframe thead th {\n",
       "        text-align: right;\n",
       "    }\n",
       "</style>\n",
       "<table border=\"1\" class=\"dataframe\">\n",
       "  <thead>\n",
       "    <tr style=\"text-align: right;\">\n",
       "      <th></th>\n",
       "      <th>Unnamed: 0</th>\n",
       "      <th>Time</th>\n",
       "      <th>Date</th>\n",
       "      <th>Latitude</th>\n",
       "      <th>Longitude</th>\n",
       "      <th>Call Established/Calldrop</th>\n",
       "      <th>Timing Advance</th>\n",
       "      <th>Agg. Active RSCP (dBm)</th>\n",
       "      <th>Agg. Active Ec/Io (dB)</th>\n",
       "      <th>UE Received Power (RSSI - dBm): Top #1</th>\n",
       "    </tr>\n",
       "  </thead>\n",
       "  <tbody>\n",
       "    <tr>\n",
       "      <th>0</th>\n",
       "      <td>107</td>\n",
       "      <td>27:41.0</td>\n",
       "      <td>2/18/2022</td>\n",
       "      <td>7.302863</td>\n",
       "      <td>5.149358</td>\n",
       "      <td>Call Established</td>\n",
       "      <td>NaN</td>\n",
       "      <td>-79.699997</td>\n",
       "      <td>-15.7</td>\n",
       "      <td>-63.900002</td>\n",
       "    </tr>\n",
       "    <tr>\n",
       "      <th>1</th>\n",
       "      <td>132</td>\n",
       "      <td>28:26.5</td>\n",
       "      <td>2/18/2022</td>\n",
       "      <td>7.301352</td>\n",
       "      <td>5.151550</td>\n",
       "      <td>Dropped Call</td>\n",
       "      <td>NaN</td>\n",
       "      <td>NaN</td>\n",
       "      <td>NaN</td>\n",
       "      <td>NaN</td>\n",
       "    </tr>\n",
       "    <tr>\n",
       "      <th>2</th>\n",
       "      <td>214</td>\n",
       "      <td>32:25.0</td>\n",
       "      <td>2/18/2022</td>\n",
       "      <td>7.287465</td>\n",
       "      <td>5.165219</td>\n",
       "      <td>Call Established</td>\n",
       "      <td>NaN</td>\n",
       "      <td>-69.199997</td>\n",
       "      <td>-8.7</td>\n",
       "      <td>-60.799999</td>\n",
       "    </tr>\n",
       "    <tr>\n",
       "      <th>3</th>\n",
       "      <td>237</td>\n",
       "      <td>33:07.0</td>\n",
       "      <td>2/18/2022</td>\n",
       "      <td>7.286134</td>\n",
       "      <td>5.168570</td>\n",
       "      <td>Dropped Call</td>\n",
       "      <td>2.0</td>\n",
       "      <td>-68.000000</td>\n",
       "      <td>3.3</td>\n",
       "      <td>NaN</td>\n",
       "    </tr>\n",
       "    <tr>\n",
       "      <th>4</th>\n",
       "      <td>458</td>\n",
       "      <td>39:41.0</td>\n",
       "      <td>2/18/2022</td>\n",
       "      <td>7.281025</td>\n",
       "      <td>5.191569</td>\n",
       "      <td>Call Established</td>\n",
       "      <td>NaN</td>\n",
       "      <td>-73.099998</td>\n",
       "      <td>-10.7</td>\n",
       "      <td>-60.400002</td>\n",
       "    </tr>\n",
       "    <tr>\n",
       "      <th>...</th>\n",
       "      <td>...</td>\n",
       "      <td>...</td>\n",
       "      <td>...</td>\n",
       "      <td>...</td>\n",
       "      <td>...</td>\n",
       "      <td>...</td>\n",
       "      <td>...</td>\n",
       "      <td>...</td>\n",
       "      <td>...</td>\n",
       "      <td>...</td>\n",
       "    </tr>\n",
       "    <tr>\n",
       "      <th>165</th>\n",
       "      <td>17831</td>\n",
       "      <td>26:53.0</td>\n",
       "      <td>2/24/2022</td>\n",
       "      <td>7.267527</td>\n",
       "      <td>5.161787</td>\n",
       "      <td>Call Established</td>\n",
       "      <td>NaN</td>\n",
       "      <td>-68.599998</td>\n",
       "      <td>3.0</td>\n",
       "      <td>NaN</td>\n",
       "    </tr>\n",
       "    <tr>\n",
       "      <th>166</th>\n",
       "      <td>17981</td>\n",
       "      <td>31:35.0</td>\n",
       "      <td>2/24/2022</td>\n",
       "      <td>7.275255</td>\n",
       "      <td>5.152578</td>\n",
       "      <td>Call Established</td>\n",
       "      <td>NaN</td>\n",
       "      <td>-69.400002</td>\n",
       "      <td>3.2</td>\n",
       "      <td>NaN</td>\n",
       "    </tr>\n",
       "    <tr>\n",
       "      <th>167</th>\n",
       "      <td>18110</td>\n",
       "      <td>35:35.0</td>\n",
       "      <td>2/24/2022</td>\n",
       "      <td>7.286213</td>\n",
       "      <td>5.153009</td>\n",
       "      <td>Call Established</td>\n",
       "      <td>NaN</td>\n",
       "      <td>-66.900002</td>\n",
       "      <td>3.9</td>\n",
       "      <td>NaN</td>\n",
       "    </tr>\n",
       "    <tr>\n",
       "      <th>168</th>\n",
       "      <td>18237</td>\n",
       "      <td>39:33.0</td>\n",
       "      <td>2/24/2022</td>\n",
       "      <td>7.296255</td>\n",
       "      <td>5.149453</td>\n",
       "      <td>Call Established</td>\n",
       "      <td>NaN</td>\n",
       "      <td>-63.900002</td>\n",
       "      <td>3.5</td>\n",
       "      <td>NaN</td>\n",
       "    </tr>\n",
       "    <tr>\n",
       "      <th>169</th>\n",
       "      <td>18366</td>\n",
       "      <td>43:39.0</td>\n",
       "      <td>2/24/2022</td>\n",
       "      <td>7.296963</td>\n",
       "      <td>5.135581</td>\n",
       "      <td>Call Established</td>\n",
       "      <td>NaN</td>\n",
       "      <td>-73.300003</td>\n",
       "      <td>0.0</td>\n",
       "      <td>NaN</td>\n",
       "    </tr>\n",
       "  </tbody>\n",
       "</table>\n",
       "<p>170 rows × 10 columns</p>\n",
       "</div>"
      ],
      "text/plain": [
       "     Unnamed: 0     Time       Date  Latitude  Longitude  \\\n",
       "0           107  27:41.0  2/18/2022  7.302863   5.149358   \n",
       "1           132  28:26.5  2/18/2022  7.301352   5.151550   \n",
       "2           214  32:25.0  2/18/2022  7.287465   5.165219   \n",
       "3           237  33:07.0  2/18/2022  7.286134   5.168570   \n",
       "4           458  39:41.0  2/18/2022  7.281025   5.191569   \n",
       "..          ...      ...        ...       ...        ...   \n",
       "165       17831  26:53.0  2/24/2022  7.267527   5.161787   \n",
       "166       17981  31:35.0  2/24/2022  7.275255   5.152578   \n",
       "167       18110  35:35.0  2/24/2022  7.286213   5.153009   \n",
       "168       18237  39:33.0  2/24/2022  7.296255   5.149453   \n",
       "169       18366  43:39.0  2/24/2022  7.296963   5.135581   \n",
       "\n",
       "    Call Established/Calldrop  Timing Advance  Agg. Active RSCP (dBm)  \\\n",
       "0            Call Established             NaN              -79.699997   \n",
       "1                Dropped Call             NaN                     NaN   \n",
       "2            Call Established             NaN              -69.199997   \n",
       "3                Dropped Call             2.0              -68.000000   \n",
       "4            Call Established             NaN              -73.099998   \n",
       "..                        ...             ...                     ...   \n",
       "165          Call Established             NaN              -68.599998   \n",
       "166          Call Established             NaN              -69.400002   \n",
       "167          Call Established             NaN              -66.900002   \n",
       "168          Call Established             NaN              -63.900002   \n",
       "169          Call Established             NaN              -73.300003   \n",
       "\n",
       "     Agg. Active Ec/Io (dB)  UE Received Power (RSSI - dBm): Top #1  \n",
       "0                     -15.7                              -63.900002  \n",
       "1                       NaN                                     NaN  \n",
       "2                      -8.7                              -60.799999  \n",
       "3                       3.3                                     NaN  \n",
       "4                     -10.7                              -60.400002  \n",
       "..                      ...                                     ...  \n",
       "165                     3.0                                     NaN  \n",
       "166                     3.2                                     NaN  \n",
       "167                     3.9                                     NaN  \n",
       "168                     3.5                                     NaN  \n",
       "169                     0.0                                     NaN  \n",
       "\n",
       "[170 rows x 10 columns]"
      ]
     },
     "execution_count": 3,
     "metadata": {},
     "output_type": "execute_result"
    }
   ],
   "source": [
    "df"
   ]
  },
  {
   "cell_type": "code",
   "execution_count": 4,
   "id": "025f9417",
   "metadata": {},
   "outputs": [
    {
     "data": {
      "text/html": [
       "<div>\n",
       "<style scoped>\n",
       "    .dataframe tbody tr th:only-of-type {\n",
       "        vertical-align: middle;\n",
       "    }\n",
       "\n",
       "    .dataframe tbody tr th {\n",
       "        vertical-align: top;\n",
       "    }\n",
       "\n",
       "    .dataframe thead th {\n",
       "        text-align: right;\n",
       "    }\n",
       "</style>\n",
       "<table border=\"1\" class=\"dataframe\">\n",
       "  <thead>\n",
       "    <tr style=\"text-align: right;\">\n",
       "      <th></th>\n",
       "      <th>Unnamed: 0</th>\n",
       "      <th>Latitude</th>\n",
       "      <th>Longitude</th>\n",
       "      <th>Timing Advance</th>\n",
       "      <th>Agg. Active RSCP (dBm)</th>\n",
       "      <th>Agg. Active Ec/Io (dB)</th>\n",
       "      <th>UE Received Power (RSSI - dBm): Top #1</th>\n",
       "    </tr>\n",
       "  </thead>\n",
       "  <tbody>\n",
       "    <tr>\n",
       "      <th>count</th>\n",
       "      <td>170.000000</td>\n",
       "      <td>170.000000</td>\n",
       "      <td>170.000000</td>\n",
       "      <td>18.000000</td>\n",
       "      <td>164.000000</td>\n",
       "      <td>163.000000</td>\n",
       "      <td>88.000000</td>\n",
       "    </tr>\n",
       "    <tr>\n",
       "      <th>mean</th>\n",
       "      <td>9062.352941</td>\n",
       "      <td>7.279708</td>\n",
       "      <td>5.184207</td>\n",
       "      <td>1.138889</td>\n",
       "      <td>-73.208536</td>\n",
       "      <td>-5.233742</td>\n",
       "      <td>-62.926136</td>\n",
       "    </tr>\n",
       "    <tr>\n",
       "      <th>std</th>\n",
       "      <td>5152.015229</td>\n",
       "      <td>0.021872</td>\n",
       "      <td>0.046495</td>\n",
       "      <td>0.782258</td>\n",
       "      <td>9.578801</td>\n",
       "      <td>8.143878</td>\n",
       "      <td>8.673801</td>\n",
       "    </tr>\n",
       "    <tr>\n",
       "      <th>min</th>\n",
       "      <td>107.000000</td>\n",
       "      <td>7.235494</td>\n",
       "      <td>5.102670</td>\n",
       "      <td>0.000000</td>\n",
       "      <td>-99.800003</td>\n",
       "      <td>-21.600000</td>\n",
       "      <td>-83.699997</td>\n",
       "    </tr>\n",
       "    <tr>\n",
       "      <th>25%</th>\n",
       "      <td>4803.250000</td>\n",
       "      <td>7.263116</td>\n",
       "      <td>5.149582</td>\n",
       "      <td>0.625000</td>\n",
       "      <td>-79.475000</td>\n",
       "      <td>-12.250000</td>\n",
       "      <td>-67.525002</td>\n",
       "    </tr>\n",
       "    <tr>\n",
       "      <th>50%</th>\n",
       "      <td>9182.000000</td>\n",
       "      <td>7.279680</td>\n",
       "      <td>5.168292</td>\n",
       "      <td>1.000000</td>\n",
       "      <td>-72.350002</td>\n",
       "      <td>-6.100000</td>\n",
       "      <td>-61.750000</td>\n",
       "    </tr>\n",
       "    <tr>\n",
       "      <th>75%</th>\n",
       "      <td>13171.250000</td>\n",
       "      <td>7.296117</td>\n",
       "      <td>5.218253</td>\n",
       "      <td>1.500000</td>\n",
       "      <td>-67.225002</td>\n",
       "      <td>3.000000</td>\n",
       "      <td>-57.325001</td>\n",
       "    </tr>\n",
       "    <tr>\n",
       "      <th>max</th>\n",
       "      <td>18366.000000</td>\n",
       "      <td>7.362015</td>\n",
       "      <td>5.295605</td>\n",
       "      <td>3.000000</td>\n",
       "      <td>-49.599998</td>\n",
       "      <td>5.900000</td>\n",
       "      <td>-47.799999</td>\n",
       "    </tr>\n",
       "  </tbody>\n",
       "</table>\n",
       "</div>"
      ],
      "text/plain": [
       "         Unnamed: 0    Latitude   Longitude  Timing Advance  \\\n",
       "count    170.000000  170.000000  170.000000       18.000000   \n",
       "mean    9062.352941    7.279708    5.184207        1.138889   \n",
       "std     5152.015229    0.021872    0.046495        0.782258   \n",
       "min      107.000000    7.235494    5.102670        0.000000   \n",
       "25%     4803.250000    7.263116    5.149582        0.625000   \n",
       "50%     9182.000000    7.279680    5.168292        1.000000   \n",
       "75%    13171.250000    7.296117    5.218253        1.500000   \n",
       "max    18366.000000    7.362015    5.295605        3.000000   \n",
       "\n",
       "       Agg. Active RSCP (dBm)  Agg. Active Ec/Io (dB)  \\\n",
       "count              164.000000              163.000000   \n",
       "mean               -73.208536               -5.233742   \n",
       "std                  9.578801                8.143878   \n",
       "min                -99.800003              -21.600000   \n",
       "25%                -79.475000              -12.250000   \n",
       "50%                -72.350002               -6.100000   \n",
       "75%                -67.225002                3.000000   \n",
       "max                -49.599998                5.900000   \n",
       "\n",
       "       UE Received Power (RSSI - dBm): Top #1  \n",
       "count                               88.000000  \n",
       "mean                               -62.926136  \n",
       "std                                  8.673801  \n",
       "min                                -83.699997  \n",
       "25%                                -67.525002  \n",
       "50%                                -61.750000  \n",
       "75%                                -57.325001  \n",
       "max                                -47.799999  "
      ]
     },
     "execution_count": 4,
     "metadata": {},
     "output_type": "execute_result"
    }
   ],
   "source": [
    "df.describe()"
   ]
  },
  {
   "cell_type": "code",
   "execution_count": 5,
   "id": "6d25dd6d",
   "metadata": {},
   "outputs": [
    {
     "data": {
      "text/plain": [
       "Unnamed: 0                                  0\n",
       "Time                                        0\n",
       "Date                                        0\n",
       "Latitude                                    0\n",
       "Longitude                                   0\n",
       "Call Established/Calldrop                   0\n",
       "Timing Advance                            152\n",
       "Agg. Active RSCP (dBm)                      6\n",
       "Agg. Active Ec/Io (dB)                      7\n",
       "UE Received Power (RSSI - dBm): Top #1     82\n",
       "dtype: int64"
      ]
     },
     "execution_count": 5,
     "metadata": {},
     "output_type": "execute_result"
    }
   ],
   "source": [
    "df.isnull().sum()"
   ]
  },
  {
   "cell_type": "code",
   "execution_count": 6,
   "id": "4e5bef0c",
   "metadata": {},
   "outputs": [],
   "source": [
    "df = df.drop('Timing Advance', axis=1)"
   ]
  },
  {
   "cell_type": "code",
   "execution_count": 7,
   "id": "17eaddb7",
   "metadata": {},
   "outputs": [],
   "source": [
    "df= df.drop(\"Unnamed: 0\", axis=1)"
   ]
  },
  {
   "cell_type": "code",
   "execution_count": 8,
   "id": "14c7fe6d",
   "metadata": {},
   "outputs": [
    {
     "data": {
      "text/plain": [
       "Time                                       0\n",
       "Date                                       0\n",
       "Latitude                                   0\n",
       "Longitude                                  0\n",
       "Call Established/Calldrop                  0\n",
       "Agg. Active RSCP (dBm)                     6\n",
       "Agg. Active Ec/Io (dB)                     7\n",
       "UE Received Power (RSSI - dBm): Top #1    82\n",
       "dtype: int64"
      ]
     },
     "execution_count": 8,
     "metadata": {},
     "output_type": "execute_result"
    }
   ],
   "source": [
    "df.isnull().sum()"
   ]
  },
  {
   "cell_type": "code",
   "execution_count": 9,
   "id": "d914c9cb",
   "metadata": {},
   "outputs": [],
   "source": [
    "df = df.fillna(0)"
   ]
  },
  {
   "cell_type": "code",
   "execution_count": 10,
   "id": "8098dd4d",
   "metadata": {},
   "outputs": [
    {
     "data": {
      "text/plain": [
       "Time                                      0\n",
       "Date                                      0\n",
       "Latitude                                  0\n",
       "Longitude                                 0\n",
       "Call Established/Calldrop                 0\n",
       "Agg. Active RSCP (dBm)                    0\n",
       "Agg. Active Ec/Io (dB)                    0\n",
       "UE Received Power (RSSI - dBm): Top #1    0\n",
       "dtype: int64"
      ]
     },
     "execution_count": 10,
     "metadata": {},
     "output_type": "execute_result"
    }
   ],
   "source": [
    "df.isnull().sum()"
   ]
  },
  {
   "cell_type": "code",
   "execution_count": 11,
   "id": "42851ba5",
   "metadata": {},
   "outputs": [
    {
     "data": {
      "text/plain": [
       "(170, 8)"
      ]
     },
     "execution_count": 11,
     "metadata": {},
     "output_type": "execute_result"
    }
   ],
   "source": [
    "df.shape"
   ]
  },
  {
   "cell_type": "code",
   "execution_count": 12,
   "id": "91c69c30",
   "metadata": {},
   "outputs": [],
   "source": [
    "df.to_csv(\"mtn_work.csv\")"
   ]
  },
  {
   "cell_type": "code",
   "execution_count": 13,
   "id": "3e9a42a4",
   "metadata": {},
   "outputs": [],
   "source": [
    "mtn = pd.read_csv(\"mtn_work.csv\")"
   ]
  },
  {
   "cell_type": "code",
   "execution_count": 14,
   "id": "84cd4342",
   "metadata": {},
   "outputs": [
    {
     "data": {
      "text/plain": [
       "Unnamed: 0                                  int64\n",
       "Time                                       object\n",
       "Date                                       object\n",
       "Latitude                                  float64\n",
       "Longitude                                 float64\n",
       "Call Established/Calldrop                  object\n",
       "Agg. Active RSCP (dBm)                    float64\n",
       "Agg. Active Ec/Io (dB)                    float64\n",
       "UE Received Power (RSSI - dBm): Top #1    float64\n",
       "dtype: object"
      ]
     },
     "execution_count": 14,
     "metadata": {},
     "output_type": "execute_result"
    }
   ],
   "source": [
    "mtn.dtypes"
   ]
  },
  {
   "cell_type": "code",
   "execution_count": 15,
   "id": "dce4f5b6",
   "metadata": {},
   "outputs": [],
   "source": [
    "mtn_nums = mtn.select_dtypes(exclude='object')\n",
    "mtn_objs = mtn.select_dtypes(include='object')"
   ]
  },
  {
   "cell_type": "code",
   "execution_count": 16,
   "id": "dd3f0771",
   "metadata": {},
   "outputs": [
    {
     "name": "stdout",
     "output_type": "stream",
     "text": [
      "<class 'pandas.core.frame.DataFrame'>\n",
      "RangeIndex: 170 entries, 0 to 169\n",
      "Data columns (total 6 columns):\n",
      " #   Column                                  Non-Null Count  Dtype  \n",
      "---  ------                                  --------------  -----  \n",
      " 0   Unnamed: 0                              170 non-null    int64  \n",
      " 1   Latitude                                170 non-null    float64\n",
      " 2   Longitude                               170 non-null    float64\n",
      " 3   Agg. Active RSCP (dBm)                  170 non-null    float64\n",
      " 4   Agg. Active Ec/Io (dB)                  170 non-null    float64\n",
      " 5   UE Received Power (RSSI - dBm): Top #1  170 non-null    float64\n",
      "dtypes: float64(5), int64(1)\n",
      "memory usage: 8.1 KB\n"
     ]
    }
   ],
   "source": [
    "\n",
    "mtn_nums.info()"
   ]
  },
  {
   "cell_type": "code",
   "execution_count": 17,
   "id": "662325e2",
   "metadata": {},
   "outputs": [
    {
     "data": {
      "text/html": [
       "<div>\n",
       "<style scoped>\n",
       "    .dataframe tbody tr th:only-of-type {\n",
       "        vertical-align: middle;\n",
       "    }\n",
       "\n",
       "    .dataframe tbody tr th {\n",
       "        vertical-align: top;\n",
       "    }\n",
       "\n",
       "    .dataframe thead th {\n",
       "        text-align: right;\n",
       "    }\n",
       "</style>\n",
       "<table border=\"1\" class=\"dataframe\">\n",
       "  <thead>\n",
       "    <tr style=\"text-align: right;\">\n",
       "      <th></th>\n",
       "      <th>Time</th>\n",
       "      <th>Date</th>\n",
       "      <th>Call Established/Calldrop</th>\n",
       "    </tr>\n",
       "  </thead>\n",
       "  <tbody>\n",
       "    <tr>\n",
       "      <th>0</th>\n",
       "      <td>27:41.0</td>\n",
       "      <td>2/18/2022</td>\n",
       "      <td>Call Established</td>\n",
       "    </tr>\n",
       "    <tr>\n",
       "      <th>1</th>\n",
       "      <td>28:26.5</td>\n",
       "      <td>2/18/2022</td>\n",
       "      <td>Dropped Call</td>\n",
       "    </tr>\n",
       "    <tr>\n",
       "      <th>2</th>\n",
       "      <td>32:25.0</td>\n",
       "      <td>2/18/2022</td>\n",
       "      <td>Call Established</td>\n",
       "    </tr>\n",
       "    <tr>\n",
       "      <th>3</th>\n",
       "      <td>33:07.0</td>\n",
       "      <td>2/18/2022</td>\n",
       "      <td>Dropped Call</td>\n",
       "    </tr>\n",
       "    <tr>\n",
       "      <th>4</th>\n",
       "      <td>39:41.0</td>\n",
       "      <td>2/18/2022</td>\n",
       "      <td>Call Established</td>\n",
       "    </tr>\n",
       "    <tr>\n",
       "      <th>...</th>\n",
       "      <td>...</td>\n",
       "      <td>...</td>\n",
       "      <td>...</td>\n",
       "    </tr>\n",
       "    <tr>\n",
       "      <th>165</th>\n",
       "      <td>26:53.0</td>\n",
       "      <td>2/24/2022</td>\n",
       "      <td>Call Established</td>\n",
       "    </tr>\n",
       "    <tr>\n",
       "      <th>166</th>\n",
       "      <td>31:35.0</td>\n",
       "      <td>2/24/2022</td>\n",
       "      <td>Call Established</td>\n",
       "    </tr>\n",
       "    <tr>\n",
       "      <th>167</th>\n",
       "      <td>35:35.0</td>\n",
       "      <td>2/24/2022</td>\n",
       "      <td>Call Established</td>\n",
       "    </tr>\n",
       "    <tr>\n",
       "      <th>168</th>\n",
       "      <td>39:33.0</td>\n",
       "      <td>2/24/2022</td>\n",
       "      <td>Call Established</td>\n",
       "    </tr>\n",
       "    <tr>\n",
       "      <th>169</th>\n",
       "      <td>43:39.0</td>\n",
       "      <td>2/24/2022</td>\n",
       "      <td>Call Established</td>\n",
       "    </tr>\n",
       "  </tbody>\n",
       "</table>\n",
       "<p>170 rows × 3 columns</p>\n",
       "</div>"
      ],
      "text/plain": [
       "        Time       Date Call Established/Calldrop\n",
       "0    27:41.0  2/18/2022          Call Established\n",
       "1    28:26.5  2/18/2022              Dropped Call\n",
       "2    32:25.0  2/18/2022          Call Established\n",
       "3    33:07.0  2/18/2022              Dropped Call\n",
       "4    39:41.0  2/18/2022          Call Established\n",
       "..       ...        ...                       ...\n",
       "165  26:53.0  2/24/2022          Call Established\n",
       "166  31:35.0  2/24/2022          Call Established\n",
       "167  35:35.0  2/24/2022          Call Established\n",
       "168  39:33.0  2/24/2022          Call Established\n",
       "169  43:39.0  2/24/2022          Call Established\n",
       "\n",
       "[170 rows x 3 columns]"
      ]
     },
     "execution_count": 17,
     "metadata": {},
     "output_type": "execute_result"
    }
   ],
   "source": [
    "mtn_objs"
   ]
  },
  {
   "cell_type": "code",
   "execution_count": 18,
   "id": "549e5b07",
   "metadata": {},
   "outputs": [],
   "source": [
    "from datetime import datetime"
   ]
  },
  {
   "cell_type": "code",
   "execution_count": 19,
   "id": "ecdce1c5",
   "metadata": {},
   "outputs": [],
   "source": [
    "mtn['Date'] = pd.to_datetime(mtn['Date'])"
   ]
  },
  {
   "cell_type": "code",
   "execution_count": 20,
   "id": "c6955a9e",
   "metadata": {},
   "outputs": [],
   "source": [
    "mtn['Time'] = mtn['Time'].replace('.', ':')"
   ]
  },
  {
   "cell_type": "code",
   "execution_count": 21,
   "id": "baa0307b",
   "metadata": {},
   "outputs": [],
   "source": [
    "mtn.drop('Time', axis=1, inplace=True)"
   ]
  },
  {
   "cell_type": "code",
   "execution_count": 22,
   "id": "9057dbca",
   "metadata": {},
   "outputs": [],
   "source": [
    "mtn.drop('Unnamed: 0', axis =1, inplace = True)"
   ]
  },
  {
   "cell_type": "code",
   "execution_count": 23,
   "id": "b86f64d2",
   "metadata": {},
   "outputs": [],
   "source": [
    "mtn['Call Established/Calldrop'].replace(['Call Established', 'Dropped Call'],\n",
    "                        [1, 0], inplace=True)"
   ]
  },
  {
   "cell_type": "code",
   "execution_count": 24,
   "id": "35b5f3c6",
   "metadata": {},
   "outputs": [
    {
     "data": {
      "text/html": [
       "<div>\n",
       "<style scoped>\n",
       "    .dataframe tbody tr th:only-of-type {\n",
       "        vertical-align: middle;\n",
       "    }\n",
       "\n",
       "    .dataframe tbody tr th {\n",
       "        vertical-align: top;\n",
       "    }\n",
       "\n",
       "    .dataframe thead th {\n",
       "        text-align: right;\n",
       "    }\n",
       "</style>\n",
       "<table border=\"1\" class=\"dataframe\">\n",
       "  <thead>\n",
       "    <tr style=\"text-align: right;\">\n",
       "      <th></th>\n",
       "      <th>Date</th>\n",
       "      <th>Latitude</th>\n",
       "      <th>Longitude</th>\n",
       "      <th>Call Established/Calldrop</th>\n",
       "      <th>Agg. Active RSCP (dBm)</th>\n",
       "      <th>Agg. Active Ec/Io (dB)</th>\n",
       "      <th>UE Received Power (RSSI - dBm): Top #1</th>\n",
       "    </tr>\n",
       "  </thead>\n",
       "  <tbody>\n",
       "    <tr>\n",
       "      <th>0</th>\n",
       "      <td>2022-02-18</td>\n",
       "      <td>7.302863</td>\n",
       "      <td>5.149358</td>\n",
       "      <td>1</td>\n",
       "      <td>-79.699997</td>\n",
       "      <td>-15.7</td>\n",
       "      <td>-63.900002</td>\n",
       "    </tr>\n",
       "    <tr>\n",
       "      <th>1</th>\n",
       "      <td>2022-02-18</td>\n",
       "      <td>7.301352</td>\n",
       "      <td>5.151550</td>\n",
       "      <td>0</td>\n",
       "      <td>0.000000</td>\n",
       "      <td>0.0</td>\n",
       "      <td>0.000000</td>\n",
       "    </tr>\n",
       "    <tr>\n",
       "      <th>2</th>\n",
       "      <td>2022-02-18</td>\n",
       "      <td>7.287465</td>\n",
       "      <td>5.165219</td>\n",
       "      <td>1</td>\n",
       "      <td>-69.199997</td>\n",
       "      <td>-8.7</td>\n",
       "      <td>-60.799999</td>\n",
       "    </tr>\n",
       "    <tr>\n",
       "      <th>3</th>\n",
       "      <td>2022-02-18</td>\n",
       "      <td>7.286134</td>\n",
       "      <td>5.168570</td>\n",
       "      <td>0</td>\n",
       "      <td>-68.000000</td>\n",
       "      <td>3.3</td>\n",
       "      <td>0.000000</td>\n",
       "    </tr>\n",
       "    <tr>\n",
       "      <th>4</th>\n",
       "      <td>2022-02-18</td>\n",
       "      <td>7.281025</td>\n",
       "      <td>5.191569</td>\n",
       "      <td>1</td>\n",
       "      <td>-73.099998</td>\n",
       "      <td>-10.7</td>\n",
       "      <td>-60.400002</td>\n",
       "    </tr>\n",
       "    <tr>\n",
       "      <th>...</th>\n",
       "      <td>...</td>\n",
       "      <td>...</td>\n",
       "      <td>...</td>\n",
       "      <td>...</td>\n",
       "      <td>...</td>\n",
       "      <td>...</td>\n",
       "      <td>...</td>\n",
       "    </tr>\n",
       "    <tr>\n",
       "      <th>165</th>\n",
       "      <td>2022-02-24</td>\n",
       "      <td>7.267527</td>\n",
       "      <td>5.161787</td>\n",
       "      <td>1</td>\n",
       "      <td>-68.599998</td>\n",
       "      <td>3.0</td>\n",
       "      <td>0.000000</td>\n",
       "    </tr>\n",
       "    <tr>\n",
       "      <th>166</th>\n",
       "      <td>2022-02-24</td>\n",
       "      <td>7.275255</td>\n",
       "      <td>5.152578</td>\n",
       "      <td>1</td>\n",
       "      <td>-69.400002</td>\n",
       "      <td>3.2</td>\n",
       "      <td>0.000000</td>\n",
       "    </tr>\n",
       "    <tr>\n",
       "      <th>167</th>\n",
       "      <td>2022-02-24</td>\n",
       "      <td>7.286213</td>\n",
       "      <td>5.153009</td>\n",
       "      <td>1</td>\n",
       "      <td>-66.900002</td>\n",
       "      <td>3.9</td>\n",
       "      <td>0.000000</td>\n",
       "    </tr>\n",
       "    <tr>\n",
       "      <th>168</th>\n",
       "      <td>2022-02-24</td>\n",
       "      <td>7.296255</td>\n",
       "      <td>5.149453</td>\n",
       "      <td>1</td>\n",
       "      <td>-63.900002</td>\n",
       "      <td>3.5</td>\n",
       "      <td>0.000000</td>\n",
       "    </tr>\n",
       "    <tr>\n",
       "      <th>169</th>\n",
       "      <td>2022-02-24</td>\n",
       "      <td>7.296963</td>\n",
       "      <td>5.135581</td>\n",
       "      <td>1</td>\n",
       "      <td>-73.300003</td>\n",
       "      <td>0.0</td>\n",
       "      <td>0.000000</td>\n",
       "    </tr>\n",
       "  </tbody>\n",
       "</table>\n",
       "<p>170 rows × 7 columns</p>\n",
       "</div>"
      ],
      "text/plain": [
       "          Date  Latitude  Longitude  Call Established/Calldrop  \\\n",
       "0   2022-02-18  7.302863   5.149358                          1   \n",
       "1   2022-02-18  7.301352   5.151550                          0   \n",
       "2   2022-02-18  7.287465   5.165219                          1   \n",
       "3   2022-02-18  7.286134   5.168570                          0   \n",
       "4   2022-02-18  7.281025   5.191569                          1   \n",
       "..         ...       ...        ...                        ...   \n",
       "165 2022-02-24  7.267527   5.161787                          1   \n",
       "166 2022-02-24  7.275255   5.152578                          1   \n",
       "167 2022-02-24  7.286213   5.153009                          1   \n",
       "168 2022-02-24  7.296255   5.149453                          1   \n",
       "169 2022-02-24  7.296963   5.135581                          1   \n",
       "\n",
       "     Agg. Active RSCP (dBm)  Agg. Active Ec/Io (dB)  \\\n",
       "0                -79.699997                   -15.7   \n",
       "1                  0.000000                     0.0   \n",
       "2                -69.199997                    -8.7   \n",
       "3                -68.000000                     3.3   \n",
       "4                -73.099998                   -10.7   \n",
       "..                      ...                     ...   \n",
       "165              -68.599998                     3.0   \n",
       "166              -69.400002                     3.2   \n",
       "167              -66.900002                     3.9   \n",
       "168              -63.900002                     3.5   \n",
       "169              -73.300003                     0.0   \n",
       "\n",
       "     UE Received Power (RSSI - dBm): Top #1  \n",
       "0                                -63.900002  \n",
       "1                                  0.000000  \n",
       "2                                -60.799999  \n",
       "3                                  0.000000  \n",
       "4                                -60.400002  \n",
       "..                                      ...  \n",
       "165                                0.000000  \n",
       "166                                0.000000  \n",
       "167                                0.000000  \n",
       "168                                0.000000  \n",
       "169                                0.000000  \n",
       "\n",
       "[170 rows x 7 columns]"
      ]
     },
     "execution_count": 24,
     "metadata": {},
     "output_type": "execute_result"
    }
   ],
   "source": [
    "mtn"
   ]
  },
  {
   "cell_type": "code",
   "execution_count": 25,
   "id": "f387970e",
   "metadata": {},
   "outputs": [],
   "source": [
    "mtn = pd.read_csv(\"mtn_work.csv\")"
   ]
  },
  {
   "cell_type": "code",
   "execution_count": 26,
   "id": "15e5a7c8",
   "metadata": {},
   "outputs": [
    {
     "data": {
      "text/html": [
       "<div>\n",
       "<style scoped>\n",
       "    .dataframe tbody tr th:only-of-type {\n",
       "        vertical-align: middle;\n",
       "    }\n",
       "\n",
       "    .dataframe tbody tr th {\n",
       "        vertical-align: top;\n",
       "    }\n",
       "\n",
       "    .dataframe thead th {\n",
       "        text-align: right;\n",
       "    }\n",
       "</style>\n",
       "<table border=\"1\" class=\"dataframe\">\n",
       "  <thead>\n",
       "    <tr style=\"text-align: right;\">\n",
       "      <th></th>\n",
       "      <th>Unnamed: 0</th>\n",
       "      <th>Time</th>\n",
       "      <th>Date</th>\n",
       "      <th>Latitude</th>\n",
       "      <th>Longitude</th>\n",
       "      <th>Call Established/Calldrop</th>\n",
       "      <th>Agg. Active RSCP (dBm)</th>\n",
       "      <th>Agg. Active Ec/Io (dB)</th>\n",
       "      <th>UE Received Power (RSSI - dBm): Top #1</th>\n",
       "    </tr>\n",
       "  </thead>\n",
       "  <tbody>\n",
       "    <tr>\n",
       "      <th>0</th>\n",
       "      <td>0</td>\n",
       "      <td>27:41.0</td>\n",
       "      <td>2/18/2022</td>\n",
       "      <td>7.302863</td>\n",
       "      <td>5.149358</td>\n",
       "      <td>Call Established</td>\n",
       "      <td>-79.699997</td>\n",
       "      <td>-15.7</td>\n",
       "      <td>-63.900002</td>\n",
       "    </tr>\n",
       "    <tr>\n",
       "      <th>1</th>\n",
       "      <td>1</td>\n",
       "      <td>28:26.5</td>\n",
       "      <td>2/18/2022</td>\n",
       "      <td>7.301352</td>\n",
       "      <td>5.151550</td>\n",
       "      <td>Dropped Call</td>\n",
       "      <td>0.000000</td>\n",
       "      <td>0.0</td>\n",
       "      <td>0.000000</td>\n",
       "    </tr>\n",
       "    <tr>\n",
       "      <th>2</th>\n",
       "      <td>2</td>\n",
       "      <td>32:25.0</td>\n",
       "      <td>2/18/2022</td>\n",
       "      <td>7.287465</td>\n",
       "      <td>5.165219</td>\n",
       "      <td>Call Established</td>\n",
       "      <td>-69.199997</td>\n",
       "      <td>-8.7</td>\n",
       "      <td>-60.799999</td>\n",
       "    </tr>\n",
       "    <tr>\n",
       "      <th>3</th>\n",
       "      <td>3</td>\n",
       "      <td>33:07.0</td>\n",
       "      <td>2/18/2022</td>\n",
       "      <td>7.286134</td>\n",
       "      <td>5.168570</td>\n",
       "      <td>Dropped Call</td>\n",
       "      <td>-68.000000</td>\n",
       "      <td>3.3</td>\n",
       "      <td>0.000000</td>\n",
       "    </tr>\n",
       "    <tr>\n",
       "      <th>4</th>\n",
       "      <td>4</td>\n",
       "      <td>39:41.0</td>\n",
       "      <td>2/18/2022</td>\n",
       "      <td>7.281025</td>\n",
       "      <td>5.191569</td>\n",
       "      <td>Call Established</td>\n",
       "      <td>-73.099998</td>\n",
       "      <td>-10.7</td>\n",
       "      <td>-60.400002</td>\n",
       "    </tr>\n",
       "  </tbody>\n",
       "</table>\n",
       "</div>"
      ],
      "text/plain": [
       "   Unnamed: 0     Time       Date  Latitude  Longitude  \\\n",
       "0           0  27:41.0  2/18/2022  7.302863   5.149358   \n",
       "1           1  28:26.5  2/18/2022  7.301352   5.151550   \n",
       "2           2  32:25.0  2/18/2022  7.287465   5.165219   \n",
       "3           3  33:07.0  2/18/2022  7.286134   5.168570   \n",
       "4           4  39:41.0  2/18/2022  7.281025   5.191569   \n",
       "\n",
       "  Call Established/Calldrop  Agg. Active RSCP (dBm)  Agg. Active Ec/Io (dB)  \\\n",
       "0          Call Established              -79.699997                   -15.7   \n",
       "1              Dropped Call                0.000000                     0.0   \n",
       "2          Call Established              -69.199997                    -8.7   \n",
       "3              Dropped Call              -68.000000                     3.3   \n",
       "4          Call Established              -73.099998                   -10.7   \n",
       "\n",
       "   UE Received Power (RSSI - dBm): Top #1  \n",
       "0                              -63.900002  \n",
       "1                                0.000000  \n",
       "2                              -60.799999  \n",
       "3                                0.000000  \n",
       "4                              -60.400002  "
      ]
     },
     "execution_count": 26,
     "metadata": {},
     "output_type": "execute_result"
    }
   ],
   "source": [
    "mtn.head()"
   ]
  },
  {
   "cell_type": "code",
   "execution_count": 27,
   "id": "ca957ced",
   "metadata": {},
   "outputs": [],
   "source": [
    "mtn['Time'] = pd.to_numeric(mtn['Time'].str.replace(':','')) "
   ]
  },
  {
   "cell_type": "code",
   "execution_count": 28,
   "id": "60e2ee28",
   "metadata": {
    "scrolled": true
   },
   "outputs": [],
   "source": [
    "mtn['Date'] = pd.to_datetime(mtn['Date'],format = '%m/%d/%Y')\n"
   ]
  },
  {
   "cell_type": "code",
   "execution_count": 29,
   "id": "0f35a425",
   "metadata": {},
   "outputs": [
    {
     "name": "stdout",
     "output_type": "stream",
     "text": [
      "<class 'pandas.core.frame.DataFrame'>\n",
      "RangeIndex: 170 entries, 0 to 169\n",
      "Data columns (total 9 columns):\n",
      " #   Column                                  Non-Null Count  Dtype         \n",
      "---  ------                                  --------------  -----         \n",
      " 0   Unnamed: 0                              170 non-null    int64         \n",
      " 1   Time                                    170 non-null    float64       \n",
      " 2   Date                                    170 non-null    datetime64[ns]\n",
      " 3   Latitude                                170 non-null    float64       \n",
      " 4   Longitude                               170 non-null    float64       \n",
      " 5   Call Established/Calldrop               170 non-null    object        \n",
      " 6   Agg. Active RSCP (dBm)                  170 non-null    float64       \n",
      " 7   Agg. Active Ec/Io (dB)                  170 non-null    float64       \n",
      " 8   UE Received Power (RSSI - dBm): Top #1  170 non-null    float64       \n",
      "dtypes: datetime64[ns](1), float64(6), int64(1), object(1)\n",
      "memory usage: 12.1+ KB\n"
     ]
    }
   ],
   "source": [
    "mtn.info()"
   ]
  },
  {
   "cell_type": "code",
   "execution_count": 30,
   "id": "8bd2a6de",
   "metadata": {},
   "outputs": [
    {
     "data": {
      "text/html": [
       "<div>\n",
       "<style scoped>\n",
       "    .dataframe tbody tr th:only-of-type {\n",
       "        vertical-align: middle;\n",
       "    }\n",
       "\n",
       "    .dataframe tbody tr th {\n",
       "        vertical-align: top;\n",
       "    }\n",
       "\n",
       "    .dataframe thead th {\n",
       "        text-align: right;\n",
       "    }\n",
       "</style>\n",
       "<table border=\"1\" class=\"dataframe\">\n",
       "  <thead>\n",
       "    <tr style=\"text-align: right;\">\n",
       "      <th></th>\n",
       "      <th>Unnamed: 0</th>\n",
       "      <th>Time</th>\n",
       "      <th>Date</th>\n",
       "      <th>Latitude</th>\n",
       "      <th>Longitude</th>\n",
       "      <th>Call Established/Calldrop</th>\n",
       "      <th>Agg. Active RSCP (dBm)</th>\n",
       "      <th>Agg. Active Ec/Io (dB)</th>\n",
       "      <th>UE Received Power (RSSI - dBm): Top #1</th>\n",
       "    </tr>\n",
       "  </thead>\n",
       "  <tbody>\n",
       "    <tr>\n",
       "      <th>0</th>\n",
       "      <td>0</td>\n",
       "      <td>2741.0</td>\n",
       "      <td>2022-02-18</td>\n",
       "      <td>7.302863</td>\n",
       "      <td>5.149358</td>\n",
       "      <td>Call Established</td>\n",
       "      <td>-79.699997</td>\n",
       "      <td>-15.7</td>\n",
       "      <td>-63.900002</td>\n",
       "    </tr>\n",
       "    <tr>\n",
       "      <th>1</th>\n",
       "      <td>1</td>\n",
       "      <td>2826.5</td>\n",
       "      <td>2022-02-18</td>\n",
       "      <td>7.301352</td>\n",
       "      <td>5.151550</td>\n",
       "      <td>Dropped Call</td>\n",
       "      <td>0.000000</td>\n",
       "      <td>0.0</td>\n",
       "      <td>0.000000</td>\n",
       "    </tr>\n",
       "    <tr>\n",
       "      <th>2</th>\n",
       "      <td>2</td>\n",
       "      <td>3225.0</td>\n",
       "      <td>2022-02-18</td>\n",
       "      <td>7.287465</td>\n",
       "      <td>5.165219</td>\n",
       "      <td>Call Established</td>\n",
       "      <td>-69.199997</td>\n",
       "      <td>-8.7</td>\n",
       "      <td>-60.799999</td>\n",
       "    </tr>\n",
       "    <tr>\n",
       "      <th>3</th>\n",
       "      <td>3</td>\n",
       "      <td>3307.0</td>\n",
       "      <td>2022-02-18</td>\n",
       "      <td>7.286134</td>\n",
       "      <td>5.168570</td>\n",
       "      <td>Dropped Call</td>\n",
       "      <td>-68.000000</td>\n",
       "      <td>3.3</td>\n",
       "      <td>0.000000</td>\n",
       "    </tr>\n",
       "    <tr>\n",
       "      <th>4</th>\n",
       "      <td>4</td>\n",
       "      <td>3941.0</td>\n",
       "      <td>2022-02-18</td>\n",
       "      <td>7.281025</td>\n",
       "      <td>5.191569</td>\n",
       "      <td>Call Established</td>\n",
       "      <td>-73.099998</td>\n",
       "      <td>-10.7</td>\n",
       "      <td>-60.400002</td>\n",
       "    </tr>\n",
       "    <tr>\n",
       "      <th>...</th>\n",
       "      <td>...</td>\n",
       "      <td>...</td>\n",
       "      <td>...</td>\n",
       "      <td>...</td>\n",
       "      <td>...</td>\n",
       "      <td>...</td>\n",
       "      <td>...</td>\n",
       "      <td>...</td>\n",
       "      <td>...</td>\n",
       "    </tr>\n",
       "    <tr>\n",
       "      <th>165</th>\n",
       "      <td>165</td>\n",
       "      <td>2653.0</td>\n",
       "      <td>2022-02-24</td>\n",
       "      <td>7.267527</td>\n",
       "      <td>5.161787</td>\n",
       "      <td>Call Established</td>\n",
       "      <td>-68.599998</td>\n",
       "      <td>3.0</td>\n",
       "      <td>0.000000</td>\n",
       "    </tr>\n",
       "    <tr>\n",
       "      <th>166</th>\n",
       "      <td>166</td>\n",
       "      <td>3135.0</td>\n",
       "      <td>2022-02-24</td>\n",
       "      <td>7.275255</td>\n",
       "      <td>5.152578</td>\n",
       "      <td>Call Established</td>\n",
       "      <td>-69.400002</td>\n",
       "      <td>3.2</td>\n",
       "      <td>0.000000</td>\n",
       "    </tr>\n",
       "    <tr>\n",
       "      <th>167</th>\n",
       "      <td>167</td>\n",
       "      <td>3535.0</td>\n",
       "      <td>2022-02-24</td>\n",
       "      <td>7.286213</td>\n",
       "      <td>5.153009</td>\n",
       "      <td>Call Established</td>\n",
       "      <td>-66.900002</td>\n",
       "      <td>3.9</td>\n",
       "      <td>0.000000</td>\n",
       "    </tr>\n",
       "    <tr>\n",
       "      <th>168</th>\n",
       "      <td>168</td>\n",
       "      <td>3933.0</td>\n",
       "      <td>2022-02-24</td>\n",
       "      <td>7.296255</td>\n",
       "      <td>5.149453</td>\n",
       "      <td>Call Established</td>\n",
       "      <td>-63.900002</td>\n",
       "      <td>3.5</td>\n",
       "      <td>0.000000</td>\n",
       "    </tr>\n",
       "    <tr>\n",
       "      <th>169</th>\n",
       "      <td>169</td>\n",
       "      <td>4339.0</td>\n",
       "      <td>2022-02-24</td>\n",
       "      <td>7.296963</td>\n",
       "      <td>5.135581</td>\n",
       "      <td>Call Established</td>\n",
       "      <td>-73.300003</td>\n",
       "      <td>0.0</td>\n",
       "      <td>0.000000</td>\n",
       "    </tr>\n",
       "  </tbody>\n",
       "</table>\n",
       "<p>170 rows × 9 columns</p>\n",
       "</div>"
      ],
      "text/plain": [
       "     Unnamed: 0    Time       Date  Latitude  Longitude  \\\n",
       "0             0  2741.0 2022-02-18  7.302863   5.149358   \n",
       "1             1  2826.5 2022-02-18  7.301352   5.151550   \n",
       "2             2  3225.0 2022-02-18  7.287465   5.165219   \n",
       "3             3  3307.0 2022-02-18  7.286134   5.168570   \n",
       "4             4  3941.0 2022-02-18  7.281025   5.191569   \n",
       "..          ...     ...        ...       ...        ...   \n",
       "165         165  2653.0 2022-02-24  7.267527   5.161787   \n",
       "166         166  3135.0 2022-02-24  7.275255   5.152578   \n",
       "167         167  3535.0 2022-02-24  7.286213   5.153009   \n",
       "168         168  3933.0 2022-02-24  7.296255   5.149453   \n",
       "169         169  4339.0 2022-02-24  7.296963   5.135581   \n",
       "\n",
       "    Call Established/Calldrop  Agg. Active RSCP (dBm)  Agg. Active Ec/Io (dB)  \\\n",
       "0            Call Established              -79.699997                   -15.7   \n",
       "1                Dropped Call                0.000000                     0.0   \n",
       "2            Call Established              -69.199997                    -8.7   \n",
       "3                Dropped Call              -68.000000                     3.3   \n",
       "4            Call Established              -73.099998                   -10.7   \n",
       "..                        ...                     ...                     ...   \n",
       "165          Call Established              -68.599998                     3.0   \n",
       "166          Call Established              -69.400002                     3.2   \n",
       "167          Call Established              -66.900002                     3.9   \n",
       "168          Call Established              -63.900002                     3.5   \n",
       "169          Call Established              -73.300003                     0.0   \n",
       "\n",
       "     UE Received Power (RSSI - dBm): Top #1  \n",
       "0                                -63.900002  \n",
       "1                                  0.000000  \n",
       "2                                -60.799999  \n",
       "3                                  0.000000  \n",
       "4                                -60.400002  \n",
       "..                                      ...  \n",
       "165                                0.000000  \n",
       "166                                0.000000  \n",
       "167                                0.000000  \n",
       "168                                0.000000  \n",
       "169                                0.000000  \n",
       "\n",
       "[170 rows x 9 columns]"
      ]
     },
     "execution_count": 30,
     "metadata": {},
     "output_type": "execute_result"
    }
   ],
   "source": [
    "mtn"
   ]
  },
  {
   "cell_type": "code",
   "execution_count": 31,
   "id": "11a94bb9",
   "metadata": {},
   "outputs": [
    {
     "data": {
      "text/plain": [
       "(170, 9)"
      ]
     },
     "execution_count": 31,
     "metadata": {},
     "output_type": "execute_result"
    }
   ],
   "source": [
    "mtn.shape"
   ]
  },
  {
   "cell_type": "code",
   "execution_count": 32,
   "id": "2321ee4a",
   "metadata": {},
   "outputs": [],
   "source": [
    "mtn['Call Established/Calldrop'].replace(['Call Established', 'Dropped Call'],\n",
    "                        [1, 0], inplace=True)"
   ]
  },
  {
   "cell_type": "code",
   "execution_count": 33,
   "id": "4359e926",
   "metadata": {},
   "outputs": [
    {
     "data": {
      "text/plain": [
       "Unnamed: 0                                         int64\n",
       "Time                                             float64\n",
       "Date                                      datetime64[ns]\n",
       "Latitude                                         float64\n",
       "Longitude                                        float64\n",
       "Call Established/Calldrop                          int64\n",
       "Agg. Active RSCP (dBm)                           float64\n",
       "Agg. Active Ec/Io (dB)                           float64\n",
       "UE Received Power (RSSI - dBm): Top #1           float64\n",
       "dtype: object"
      ]
     },
     "execution_count": 33,
     "metadata": {},
     "output_type": "execute_result"
    }
   ],
   "source": [
    "mtn.dtypes"
   ]
  },
  {
   "cell_type": "code",
   "execution_count": 34,
   "id": "e7c09638",
   "metadata": {},
   "outputs": [
    {
     "data": {
      "text/plain": [
       "Unnamed: 0                                         int64\n",
       "Time                                             float64\n",
       "Date                                      datetime64[ns]\n",
       "Latitude                                         float64\n",
       "Longitude                                        float64\n",
       "Call Established/Calldrop                          int64\n",
       "Agg. Active RSCP (dBm)                           float64\n",
       "Agg. Active Ec/Io (dB)                           float64\n",
       "UE Received Power (RSSI - dBm): Top #1           float64\n",
       "dtype: object"
      ]
     },
     "execution_count": 34,
     "metadata": {},
     "output_type": "execute_result"
    }
   ],
   "source": [
    "mtn.dtypes"
   ]
  },
  {
   "cell_type": "code",
   "execution_count": 35,
   "id": "156f2513",
   "metadata": {},
   "outputs": [],
   "source": [
    "mtn['Date'] = pd.to_numeric(mtn['Date'], errors='coerce')"
   ]
  },
  {
   "cell_type": "code",
   "execution_count": 36,
   "id": "2d088b1e",
   "metadata": {},
   "outputs": [],
   "source": [
    "mtn.drop('Date', axis =1, inplace = True)"
   ]
  },
  {
   "cell_type": "code",
   "execution_count": 37,
   "id": "9939d1b1",
   "metadata": {},
   "outputs": [
    {
     "data": {
      "text/html": [
       "<div>\n",
       "<style scoped>\n",
       "    .dataframe tbody tr th:only-of-type {\n",
       "        vertical-align: middle;\n",
       "    }\n",
       "\n",
       "    .dataframe tbody tr th {\n",
       "        vertical-align: top;\n",
       "    }\n",
       "\n",
       "    .dataframe thead th {\n",
       "        text-align: right;\n",
       "    }\n",
       "</style>\n",
       "<table border=\"1\" class=\"dataframe\">\n",
       "  <thead>\n",
       "    <tr style=\"text-align: right;\">\n",
       "      <th></th>\n",
       "      <th>Unnamed: 0</th>\n",
       "      <th>Time</th>\n",
       "      <th>Latitude</th>\n",
       "      <th>Longitude</th>\n",
       "      <th>Call Established/Calldrop</th>\n",
       "      <th>Agg. Active RSCP (dBm)</th>\n",
       "      <th>Agg. Active Ec/Io (dB)</th>\n",
       "      <th>UE Received Power (RSSI - dBm): Top #1</th>\n",
       "    </tr>\n",
       "  </thead>\n",
       "  <tbody>\n",
       "    <tr>\n",
       "      <th>0</th>\n",
       "      <td>0</td>\n",
       "      <td>2741.0</td>\n",
       "      <td>7.302863</td>\n",
       "      <td>5.149358</td>\n",
       "      <td>1</td>\n",
       "      <td>-79.699997</td>\n",
       "      <td>-15.7</td>\n",
       "      <td>-63.900002</td>\n",
       "    </tr>\n",
       "    <tr>\n",
       "      <th>1</th>\n",
       "      <td>1</td>\n",
       "      <td>2826.5</td>\n",
       "      <td>7.301352</td>\n",
       "      <td>5.151550</td>\n",
       "      <td>0</td>\n",
       "      <td>0.000000</td>\n",
       "      <td>0.0</td>\n",
       "      <td>0.000000</td>\n",
       "    </tr>\n",
       "    <tr>\n",
       "      <th>2</th>\n",
       "      <td>2</td>\n",
       "      <td>3225.0</td>\n",
       "      <td>7.287465</td>\n",
       "      <td>5.165219</td>\n",
       "      <td>1</td>\n",
       "      <td>-69.199997</td>\n",
       "      <td>-8.7</td>\n",
       "      <td>-60.799999</td>\n",
       "    </tr>\n",
       "    <tr>\n",
       "      <th>3</th>\n",
       "      <td>3</td>\n",
       "      <td>3307.0</td>\n",
       "      <td>7.286134</td>\n",
       "      <td>5.168570</td>\n",
       "      <td>0</td>\n",
       "      <td>-68.000000</td>\n",
       "      <td>3.3</td>\n",
       "      <td>0.000000</td>\n",
       "    </tr>\n",
       "    <tr>\n",
       "      <th>4</th>\n",
       "      <td>4</td>\n",
       "      <td>3941.0</td>\n",
       "      <td>7.281025</td>\n",
       "      <td>5.191569</td>\n",
       "      <td>1</td>\n",
       "      <td>-73.099998</td>\n",
       "      <td>-10.7</td>\n",
       "      <td>-60.400002</td>\n",
       "    </tr>\n",
       "    <tr>\n",
       "      <th>...</th>\n",
       "      <td>...</td>\n",
       "      <td>...</td>\n",
       "      <td>...</td>\n",
       "      <td>...</td>\n",
       "      <td>...</td>\n",
       "      <td>...</td>\n",
       "      <td>...</td>\n",
       "      <td>...</td>\n",
       "    </tr>\n",
       "    <tr>\n",
       "      <th>165</th>\n",
       "      <td>165</td>\n",
       "      <td>2653.0</td>\n",
       "      <td>7.267527</td>\n",
       "      <td>5.161787</td>\n",
       "      <td>1</td>\n",
       "      <td>-68.599998</td>\n",
       "      <td>3.0</td>\n",
       "      <td>0.000000</td>\n",
       "    </tr>\n",
       "    <tr>\n",
       "      <th>166</th>\n",
       "      <td>166</td>\n",
       "      <td>3135.0</td>\n",
       "      <td>7.275255</td>\n",
       "      <td>5.152578</td>\n",
       "      <td>1</td>\n",
       "      <td>-69.400002</td>\n",
       "      <td>3.2</td>\n",
       "      <td>0.000000</td>\n",
       "    </tr>\n",
       "    <tr>\n",
       "      <th>167</th>\n",
       "      <td>167</td>\n",
       "      <td>3535.0</td>\n",
       "      <td>7.286213</td>\n",
       "      <td>5.153009</td>\n",
       "      <td>1</td>\n",
       "      <td>-66.900002</td>\n",
       "      <td>3.9</td>\n",
       "      <td>0.000000</td>\n",
       "    </tr>\n",
       "    <tr>\n",
       "      <th>168</th>\n",
       "      <td>168</td>\n",
       "      <td>3933.0</td>\n",
       "      <td>7.296255</td>\n",
       "      <td>5.149453</td>\n",
       "      <td>1</td>\n",
       "      <td>-63.900002</td>\n",
       "      <td>3.5</td>\n",
       "      <td>0.000000</td>\n",
       "    </tr>\n",
       "    <tr>\n",
       "      <th>169</th>\n",
       "      <td>169</td>\n",
       "      <td>4339.0</td>\n",
       "      <td>7.296963</td>\n",
       "      <td>5.135581</td>\n",
       "      <td>1</td>\n",
       "      <td>-73.300003</td>\n",
       "      <td>0.0</td>\n",
       "      <td>0.000000</td>\n",
       "    </tr>\n",
       "  </tbody>\n",
       "</table>\n",
       "<p>170 rows × 8 columns</p>\n",
       "</div>"
      ],
      "text/plain": [
       "     Unnamed: 0    Time  Latitude  Longitude  Call Established/Calldrop  \\\n",
       "0             0  2741.0  7.302863   5.149358                          1   \n",
       "1             1  2826.5  7.301352   5.151550                          0   \n",
       "2             2  3225.0  7.287465   5.165219                          1   \n",
       "3             3  3307.0  7.286134   5.168570                          0   \n",
       "4             4  3941.0  7.281025   5.191569                          1   \n",
       "..          ...     ...       ...        ...                        ...   \n",
       "165         165  2653.0  7.267527   5.161787                          1   \n",
       "166         166  3135.0  7.275255   5.152578                          1   \n",
       "167         167  3535.0  7.286213   5.153009                          1   \n",
       "168         168  3933.0  7.296255   5.149453                          1   \n",
       "169         169  4339.0  7.296963   5.135581                          1   \n",
       "\n",
       "     Agg. Active RSCP (dBm)  Agg. Active Ec/Io (dB)  \\\n",
       "0                -79.699997                   -15.7   \n",
       "1                  0.000000                     0.0   \n",
       "2                -69.199997                    -8.7   \n",
       "3                -68.000000                     3.3   \n",
       "4                -73.099998                   -10.7   \n",
       "..                      ...                     ...   \n",
       "165              -68.599998                     3.0   \n",
       "166              -69.400002                     3.2   \n",
       "167              -66.900002                     3.9   \n",
       "168              -63.900002                     3.5   \n",
       "169              -73.300003                     0.0   \n",
       "\n",
       "     UE Received Power (RSSI - dBm): Top #1  \n",
       "0                                -63.900002  \n",
       "1                                  0.000000  \n",
       "2                                -60.799999  \n",
       "3                                  0.000000  \n",
       "4                                -60.400002  \n",
       "..                                      ...  \n",
       "165                                0.000000  \n",
       "166                                0.000000  \n",
       "167                                0.000000  \n",
       "168                                0.000000  \n",
       "169                                0.000000  \n",
       "\n",
       "[170 rows x 8 columns]"
      ]
     },
     "execution_count": 37,
     "metadata": {},
     "output_type": "execute_result"
    }
   ],
   "source": [
    "mtn"
   ]
  },
  {
   "cell_type": "code",
   "execution_count": 38,
   "id": "3b138577",
   "metadata": {},
   "outputs": [],
   "source": [
    "mtn.to_csv('callperformance.csv', index=False)"
   ]
  },
  {
   "cell_type": "code",
   "execution_count": 39,
   "id": "9c3ada10",
   "metadata": {},
   "outputs": [],
   "source": [
    "\n",
    "from sklearn.model_selection import train_test_split"
   ]
  },
  {
   "cell_type": "code",
   "execution_count": 40,
   "id": "2bc7293b",
   "metadata": {},
   "outputs": [],
   "source": [
    "from sklearn.linear_model import LogisticRegression"
   ]
  },
  {
   "cell_type": "code",
   "execution_count": 41,
   "id": "c50a42af",
   "metadata": {},
   "outputs": [],
   "source": [
    "from sklearn.preprocessing import StandardScaler\n"
   ]
  },
  {
   "cell_type": "code",
   "execution_count": 42,
   "id": "2ae42269",
   "metadata": {},
   "outputs": [],
   "source": [
    "X = mtn.drop('Call Established/Calldrop',axis=1)\n",
    "y = mtn['Call Established/Calldrop']"
   ]
  },
  {
   "cell_type": "code",
   "execution_count": 43,
   "id": "b7816b47",
   "metadata": {},
   "outputs": [],
   "source": [
    "X_train, X_test, y_train, y_test = train_test_split(X, y, test_size=0.3, random_state=101)"
   ]
  },
  {
   "cell_type": "code",
   "execution_count": 44,
   "id": "ed6c128f",
   "metadata": {},
   "outputs": [],
   "source": [
    "scaler = StandardScaler()"
   ]
  },
  {
   "cell_type": "code",
   "execution_count": 45,
   "id": "182f5fdf",
   "metadata": {},
   "outputs": [],
   "source": [
    "scaled_X_train = scaler.fit_transform(X_train)\n",
    "scaled_X_test = scaler.transform(X_test)"
   ]
  },
  {
   "cell_type": "code",
   "execution_count": 46,
   "id": "4e9f6627",
   "metadata": {},
   "outputs": [],
   "source": [
    "from sklearn.linear_model import LogisticRegression"
   ]
  },
  {
   "cell_type": "code",
   "execution_count": 47,
   "id": "e5e9d233",
   "metadata": {},
   "outputs": [],
   "source": [
    "log_model = LogisticRegression()"
   ]
  },
  {
   "cell_type": "code",
   "execution_count": 48,
   "id": "9c5491e6",
   "metadata": {},
   "outputs": [
    {
     "data": {
      "text/plain": [
       "LogisticRegression()"
      ]
     },
     "execution_count": 48,
     "metadata": {},
     "output_type": "execute_result"
    }
   ],
   "source": [
    "log_model.fit(scaled_X_train,y_train)"
   ]
  },
  {
   "cell_type": "code",
   "execution_count": 49,
   "id": "42558346",
   "metadata": {},
   "outputs": [
    {
     "data": {
      "text/plain": [
       "array([[ 1.2259911 , -0.18613512, -0.25069511,  0.10602592, -0.11924034,\n",
       "        -0.20797808, -1.44935185]])"
      ]
     },
     "execution_count": 49,
     "metadata": {},
     "output_type": "execute_result"
    }
   ],
   "source": [
    "log_model.coef_"
   ]
  },
  {
   "cell_type": "code",
   "execution_count": 50,
   "id": "8221710e",
   "metadata": {},
   "outputs": [],
   "source": [
    "from sklearn.metrics import accuracy_score,confusion_matrix,classification_report,plot_confusion_matrix"
   ]
  },
  {
   "cell_type": "code",
   "execution_count": 51,
   "id": "9c3fdcdc",
   "metadata": {},
   "outputs": [],
   "source": [
    "y_pred = log_model.predict(scaled_X_test)"
   ]
  },
  {
   "cell_type": "code",
   "execution_count": 52,
   "id": "215506ed",
   "metadata": {},
   "outputs": [
    {
     "data": {
      "text/plain": [
       "0.9803921568627451"
      ]
     },
     "execution_count": 52,
     "metadata": {},
     "output_type": "execute_result"
    }
   ],
   "source": [
    "accuracy_score(y_test,y_pred)"
   ]
  },
  {
   "cell_type": "code",
   "execution_count": 53,
   "id": "0c693b1f",
   "metadata": {},
   "outputs": [
    {
     "data": {
      "text/plain": [
       "array([[ 1,  1],\n",
       "       [ 0, 49]], dtype=int64)"
      ]
     },
     "execution_count": 53,
     "metadata": {},
     "output_type": "execute_result"
    }
   ],
   "source": [
    "confusion_matrix(y_test,y_pred)"
   ]
  },
  {
   "cell_type": "code",
   "execution_count": 54,
   "id": "6136a6cc",
   "metadata": {
    "scrolled": true
   },
   "outputs": [
    {
     "data": {
      "text/plain": [
       "<sklearn.metrics._plot.confusion_matrix.ConfusionMatrixDisplay at 0x25fb9d7f5b0>"
      ]
     },
     "execution_count": 54,
     "metadata": {},
     "output_type": "execute_result"
    },
    {
     "data": {
      "image/png": "[encoded data removed]",
      "text/plain": [
       "<Figure size 640x480 with 2 Axes>"
      ]
     },
     "metadata": {},
     "output_type": "display_data"
    }
   ],
   "source": [
    "plot_confusion_matrix(log_model,scaled_X_test,y_test)"
   ]
  },
  {
   "cell_type": "code",
   "execution_count": 55,
   "id": "de1922b7",
   "metadata": {
    "scrolled": true
   },
   "outputs": [
    {
     "data": {
      "text/plain": [
       "<sklearn.metrics._plot.confusion_matrix.ConfusionMatrixDisplay at 0x25fb9d96ca0>"
      ]
     },
     "execution_count": 55,
     "metadata": {},
     "output_type": "execute_result"
    },
    {
     "data": {
      "image/png": "[encoded data removed]",
      "text/plain": [
       "<Figure size 640x480 with 2 Axes>"
      ]
     },
     "metadata": {},
     "output_type": "display_data"
    }
   ],
   "source": [
    "plot_confusion_matrix(log_model,scaled_X_test,y_test,normalize='true')"
   ]
  },
  {
   "cell_type": "code",
   "execution_count": 56,
   "id": "c96bf252",
   "metadata": {},
   "outputs": [],
   "source": [
    "r2= r2_score(y_test, y_pred)"
   ]
  },
  {
   "cell_type": "code",
   "execution_count": 57,
   "id": "94e62ead",
   "metadata": {},
   "outputs": [
    {
     "data": {
      "text/plain": [
       "0.47959183673469385"
      ]
     },
     "execution_count": 57,
     "metadata": {},
     "output_type": "execute_result"
    }
   ],
   "source": [
    "r2"
   ]
  },
  {
   "cell_type": "code",
   "execution_count": 58,
   "id": "1bba9f64",
   "metadata": {},
   "outputs": [
    {
     "name": "stdout",
     "output_type": "stream",
     "text": [
      "              precision    recall  f1-score   support\n",
      "\n",
      "           0       1.00      0.50      0.67         2\n",
      "           1       0.98      1.00      0.99        49\n",
      "\n",
      "    accuracy                           0.98        51\n",
      "   macro avg       0.99      0.75      0.83        51\n",
      "weighted avg       0.98      0.98      0.98        51\n",
      "\n"
     ]
    }
   ],
   "source": [
    "print(classification_report(y_test,y_pred))"
   ]
  },
  {
   "cell_type": "code",
   "execution_count": 59,
   "id": "076bd2de",
   "metadata": {},
   "outputs": [],
   "source": [
    "from sklearn.metrics import roc_curve, auc"
   ]
  },
  {
   "cell_type": "code",
   "execution_count": 60,
   "id": "4c7de9f9",
   "metadata": {},
   "outputs": [],
   "source": [
    "# Calculate the false positive rate (FPR) and true positive rate (TPR)\n",
    "fpr, tpr, thresholds = roc_curve(y_test, y_pred)"
   ]
  },
  {
   "cell_type": "code",
   "execution_count": 61,
   "id": "e0bf522c",
   "metadata": {},
   "outputs": [],
   "source": [
    "# Calculate the area under the curve (AUC)\n",
    "roc_auc = auc(fpr, tpr)"
   ]
  },
  {
   "cell_type": "code",
   "execution_count": 62,
   "id": "f6367f55",
   "metadata": {},
   "outputs": [],
   "source": [
    "from sklearn.metrics import roc_auc_score"
   ]
  },
  {
   "cell_type": "code",
   "execution_count": 63,
   "id": "22b72d94",
   "metadata": {},
   "outputs": [
    {
     "data": {
      "image/png": "[encoded data removed]",
      "text/plain": [
       "<Figure size 640x480 with 1 Axes>"
      ]
     },
     "metadata": {},
     "output_type": "display_data"
    }
   ],
   "source": [
    "auc = roc_auc_score(y_test, y_pred)\n",
    "plt.plot(fpr, tpr, label='ROC-AUC (area = {:.3f})'.format(auc))\n",
    "plt.xlabel('False Positive Rate')\n",
    "plt.ylabel('True Positive Rate')\n",
    "plt.title('Receiver Operating Characteristic')\n",
    "plt.legend(loc='best')\n",
    "plt.show()"
   ]
  },
  {
   "cell_type": "code",
   "execution_count": 64,
   "id": "55a7b14f",
   "metadata": {},
   "outputs": [],
   "source": [
    "\n",
    "X = mtn.drop('Call Established/Calldrop',axis=1)\n",
    "y = mtn['Call Established/Calldrop']"
   ]
  },
  {
   "cell_type": "code",
   "execution_count": 65,
   "id": "13f2f6c5",
   "metadata": {},
   "outputs": [],
   "source": [
    "from sklearn.model_selection import train_test_split"
   ]
  },
  {
   "cell_type": "code",
   "execution_count": 66,
   "id": "8b97ff4b",
   "metadata": {},
   "outputs": [],
   "source": [
    "X_train, X_test, y_train, y_test = train_test_split(X, y, test_size=0.3, random_state=101)"
   ]
  },
  {
   "cell_type": "code",
   "execution_count": 67,
   "id": "83fdb61d",
   "metadata": {},
   "outputs": [],
   "source": [
    "\n",
    "from sklearn.tree import DecisionTreeClassifier"
   ]
  },
  {
   "cell_type": "code",
   "execution_count": 68,
   "id": "90e559aa",
   "metadata": {},
   "outputs": [],
   "source": [
    "model = DecisionTreeClassifier()"
   ]
  },
  {
   "cell_type": "code",
   "execution_count": 69,
   "id": "2d2b1cd9",
   "metadata": {},
   "outputs": [
    {
     "data": {
      "text/plain": [
       "DecisionTreeClassifier()"
      ]
     },
     "execution_count": 69,
     "metadata": {},
     "output_type": "execute_result"
    }
   ],
   "source": [
    "model.fit(X_train,y_train)"
   ]
  },
  {
   "cell_type": "code",
   "execution_count": 70,
   "id": "3caaa58f",
   "metadata": {},
   "outputs": [],
   "source": [
    "base_pred = model.predict(X_test)"
   ]
  },
  {
   "cell_type": "code",
   "execution_count": 71,
   "id": "4eeb7904",
   "metadata": {},
   "outputs": [
    {
     "data": {
      "text/plain": [
       "0.9607843137254902"
      ]
     },
     "execution_count": 71,
     "metadata": {},
     "output_type": "execute_result"
    }
   ],
   "source": [
    "accuracy_score(y_test,base_pred)"
   ]
  },
  {
   "cell_type": "code",
   "execution_count": 72,
   "id": "ac10ad01",
   "metadata": {},
   "outputs": [],
   "source": [
    "from sklearn.metrics import confusion_matrix,classification_report,plot_confusion_matrix"
   ]
  },
  {
   "cell_type": "code",
   "execution_count": 73,
   "id": "adbcc110",
   "metadata": {},
   "outputs": [
    {
     "data": {
      "text/plain": [
       "array([[ 1,  1],\n",
       "       [ 1, 48]], dtype=int64)"
      ]
     },
     "execution_count": 73,
     "metadata": {},
     "output_type": "execute_result"
    }
   ],
   "source": [
    "confusion_matrix(y_test,base_pred)"
   ]
  },
  {
   "cell_type": "code",
   "execution_count": 74,
   "id": "8a7a401c",
   "metadata": {},
   "outputs": [
    {
     "data": {
      "text/plain": [
       "<sklearn.metrics._plot.confusion_matrix.ConfusionMatrixDisplay at 0x25fba63d8b0>"
      ]
     },
     "execution_count": 74,
     "metadata": {},
     "output_type": "execute_result"
    },
    {
     "data": {
      "image/png": "[encoded data removed]",
      "text/plain": [
       "<Figure size 640x480 with 2 Axes>"
      ]
     },
     "metadata": {},
     "output_type": "display_data"
    }
   ],
   "source": [
    "plot_confusion_matrix(model,X_test,y_test)"
   ]
  },
  {
   "cell_type": "code",
   "execution_count": 75,
   "id": "2be0d8bb",
   "metadata": {},
   "outputs": [
    {
     "name": "stdout",
     "output_type": "stream",
     "text": [
      "              precision    recall  f1-score   support\n",
      "\n",
      "           0       0.50      0.50      0.50         2\n",
      "           1       0.98      0.98      0.98        49\n",
      "\n",
      "    accuracy                           0.96        51\n",
      "   macro avg       0.74      0.74      0.74        51\n",
      "weighted avg       0.96      0.96      0.96        51\n",
      "\n"
     ]
    }
   ],
   "source": [
    "print(classification_report(y_test,base_pred))"
   ]
  },
  {
   "cell_type": "code",
   "execution_count": 76,
   "id": "896a2d9b",
   "metadata": {},
   "outputs": [],
   "source": [
    "score1 = r2_score(y_test,base_pred)"
   ]
  },
  {
   "cell_type": "code",
   "execution_count": 77,
   "id": "3c9456f6",
   "metadata": {},
   "outputs": [
    {
     "data": {
      "text/plain": [
       "-0.04081632653061229"
      ]
     },
     "execution_count": 77,
     "metadata": {},
     "output_type": "execute_result"
    }
   ],
   "source": [
    "score1"
   ]
  },
  {
   "cell_type": "code",
   "execution_count": 78,
   "id": "f76b4d03",
   "metadata": {},
   "outputs": [],
   "source": [
    "from sklearn.metrics import roc_curve, auc"
   ]
  },
  {
   "cell_type": "code",
   "execution_count": 79,
   "id": "faeb25a6",
   "metadata": {},
   "outputs": [],
   "source": [
    "# Calculate the false positive rate (FPR) and true positive rate (TPR)\n",
    "fpr, tpr, thresholds = roc_curve(y_test, base_pred)"
   ]
  },
  {
   "cell_type": "code",
   "execution_count": 80,
   "id": "8228301a",
   "metadata": {},
   "outputs": [
    {
     "data": {
      "image/png": "[encoded data removed]",
      "text/plain": [
       "<Figure size 640x480 with 1 Axes>"
      ]
     },
     "metadata": {},
     "output_type": "display_data"
    }
   ],
   "source": [
    "auc = roc_auc_score(y_test, base_pred)\n",
    "plt.plot(fpr, tpr, label='ROC-AUC (area = {:.3f})'.format(auc))\n",
    "plt.xlabel('False Positive Rate')\n",
    "plt.ylabel('True Positive Rate')\n",
    "plt.title('Receiver Operating Characteristic')\n",
    "plt.legend(loc='best')\n",
    "plt.show()"
   ]
  },
  {
   "cell_type": "code",
   "execution_count": 81,
   "id": "96cc4944",
   "metadata": {},
   "outputs": [],
   "source": [
    "from sklearn import datasets"
   ]
  },
  {
   "cell_type": "code",
   "execution_count": 82,
   "id": "d5826843",
   "metadata": {},
   "outputs": [],
   "source": [
    "\n",
    "mtn = pd.read_csv('callperformance.csv')\n",
    "X = mtn.drop('Call Established/Calldrop', axis=1)\n",
    "y = mtn['Call Established/Calldrop']"
   ]
  },
  {
   "cell_type": "code",
   "execution_count": 83,
   "id": "0db92b50",
   "metadata": {},
   "outputs": [
    {
     "data": {
      "text/html": [
       "<div>\n",
       "<style scoped>\n",
       "    .dataframe tbody tr th:only-of-type {\n",
       "        vertical-align: middle;\n",
       "    }\n",
       "\n",
       "    .dataframe tbody tr th {\n",
       "        vertical-align: top;\n",
       "    }\n",
       "\n",
       "    .dataframe thead th {\n",
       "        text-align: right;\n",
       "    }\n",
       "</style>\n",
       "<table border=\"1\" class=\"dataframe\">\n",
       "  <thead>\n",
       "    <tr style=\"text-align: right;\">\n",
       "      <th></th>\n",
       "      <th>Unnamed: 0</th>\n",
       "      <th>Time</th>\n",
       "      <th>Latitude</th>\n",
       "      <th>Longitude</th>\n",
       "      <th>Call Established/Calldrop</th>\n",
       "      <th>Agg. Active RSCP (dBm)</th>\n",
       "      <th>Agg. Active Ec/Io (dB)</th>\n",
       "      <th>UE Received Power (RSSI - dBm): Top #1</th>\n",
       "    </tr>\n",
       "  </thead>\n",
       "  <tbody>\n",
       "    <tr>\n",
       "      <th>0</th>\n",
       "      <td>0</td>\n",
       "      <td>2741.0</td>\n",
       "      <td>7.302863</td>\n",
       "      <td>5.149358</td>\n",
       "      <td>1</td>\n",
       "      <td>-79.699997</td>\n",
       "      <td>-15.7</td>\n",
       "      <td>-63.900002</td>\n",
       "    </tr>\n",
       "    <tr>\n",
       "      <th>1</th>\n",
       "      <td>1</td>\n",
       "      <td>2826.5</td>\n",
       "      <td>7.301352</td>\n",
       "      <td>5.151550</td>\n",
       "      <td>0</td>\n",
       "      <td>0.000000</td>\n",
       "      <td>0.0</td>\n",
       "      <td>0.000000</td>\n",
       "    </tr>\n",
       "    <tr>\n",
       "      <th>2</th>\n",
       "      <td>2</td>\n",
       "      <td>3225.0</td>\n",
       "      <td>7.287465</td>\n",
       "      <td>5.165219</td>\n",
       "      <td>1</td>\n",
       "      <td>-69.199997</td>\n",
       "      <td>-8.7</td>\n",
       "      <td>-60.799999</td>\n",
       "    </tr>\n",
       "    <tr>\n",
       "      <th>3</th>\n",
       "      <td>3</td>\n",
       "      <td>3307.0</td>\n",
       "      <td>7.286134</td>\n",
       "      <td>5.168570</td>\n",
       "      <td>0</td>\n",
       "      <td>-68.000000</td>\n",
       "      <td>3.3</td>\n",
       "      <td>0.000000</td>\n",
       "    </tr>\n",
       "    <tr>\n",
       "      <th>4</th>\n",
       "      <td>4</td>\n",
       "      <td>3941.0</td>\n",
       "      <td>7.281025</td>\n",
       "      <td>5.191569</td>\n",
       "      <td>1</td>\n",
       "      <td>-73.099998</td>\n",
       "      <td>-10.7</td>\n",
       "      <td>-60.400002</td>\n",
       "    </tr>\n",
       "    <tr>\n",
       "      <th>...</th>\n",
       "      <td>...</td>\n",
       "      <td>...</td>\n",
       "      <td>...</td>\n",
       "      <td>...</td>\n",
       "      <td>...</td>\n",
       "      <td>...</td>\n",
       "      <td>...</td>\n",
       "      <td>...</td>\n",
       "    </tr>\n",
       "    <tr>\n",
       "      <th>165</th>\n",
       "      <td>165</td>\n",
       "      <td>2653.0</td>\n",
       "      <td>7.267527</td>\n",
       "      <td>5.161787</td>\n",
       "      <td>1</td>\n",
       "      <td>-68.599998</td>\n",
       "      <td>3.0</td>\n",
       "      <td>0.000000</td>\n",
       "    </tr>\n",
       "    <tr>\n",
       "      <th>166</th>\n",
       "      <td>166</td>\n",
       "      <td>3135.0</td>\n",
       "      <td>7.275255</td>\n",
       "      <td>5.152578</td>\n",
       "      <td>1</td>\n",
       "      <td>-69.400002</td>\n",
       "      <td>3.2</td>\n",
       "      <td>0.000000</td>\n",
       "    </tr>\n",
       "    <tr>\n",
       "      <th>167</th>\n",
       "      <td>167</td>\n",
       "      <td>3535.0</td>\n",
       "      <td>7.286213</td>\n",
       "      <td>5.153009</td>\n",
       "      <td>1</td>\n",
       "      <td>-66.900002</td>\n",
       "      <td>3.9</td>\n",
       "      <td>0.000000</td>\n",
       "    </tr>\n",
       "    <tr>\n",
       "      <th>168</th>\n",
       "      <td>168</td>\n",
       "      <td>3933.0</td>\n",
       "      <td>7.296255</td>\n",
       "      <td>5.149453</td>\n",
       "      <td>1</td>\n",
       "      <td>-63.900002</td>\n",
       "      <td>3.5</td>\n",
       "      <td>0.000000</td>\n",
       "    </tr>\n",
       "    <tr>\n",
       "      <th>169</th>\n",
       "      <td>169</td>\n",
       "      <td>4339.0</td>\n",
       "      <td>7.296963</td>\n",
       "      <td>5.135581</td>\n",
       "      <td>1</td>\n",
       "      <td>-73.300003</td>\n",
       "      <td>0.0</td>\n",
       "      <td>0.000000</td>\n",
       "    </tr>\n",
       "  </tbody>\n",
       "</table>\n",
       "<p>170 rows × 8 columns</p>\n",
       "</div>"
      ],
      "text/plain": [
       "     Unnamed: 0    Time  Latitude  Longitude  Call Established/Calldrop  \\\n",
       "0             0  2741.0  7.302863   5.149358                          1   \n",
       "1             1  2826.5  7.301352   5.151550                          0   \n",
       "2             2  3225.0  7.287465   5.165219                          1   \n",
       "3             3  3307.0  7.286134   5.168570                          0   \n",
       "4             4  3941.0  7.281025   5.191569                          1   \n",
       "..          ...     ...       ...        ...                        ...   \n",
       "165         165  2653.0  7.267527   5.161787                          1   \n",
       "166         166  3135.0  7.275255   5.152578                          1   \n",
       "167         167  3535.0  7.286213   5.153009                          1   \n",
       "168         168  3933.0  7.296255   5.149453                          1   \n",
       "169         169  4339.0  7.296963   5.135581                          1   \n",
       "\n",
       "     Agg. Active RSCP (dBm)  Agg. Active Ec/Io (dB)  \\\n",
       "0                -79.699997                   -15.7   \n",
       "1                  0.000000                     0.0   \n",
       "2                -69.199997                    -8.7   \n",
       "3                -68.000000                     3.3   \n",
       "4                -73.099998                   -10.7   \n",
       "..                      ...                     ...   \n",
       "165              -68.599998                     3.0   \n",
       "166              -69.400002                     3.2   \n",
       "167              -66.900002                     3.9   \n",
       "168              -63.900002                     3.5   \n",
       "169              -73.300003                     0.0   \n",
       "\n",
       "     UE Received Power (RSSI - dBm): Top #1  \n",
       "0                                -63.900002  \n",
       "1                                  0.000000  \n",
       "2                                -60.799999  \n",
       "3                                  0.000000  \n",
       "4                                -60.400002  \n",
       "..                                      ...  \n",
       "165                                0.000000  \n",
       "166                                0.000000  \n",
       "167                                0.000000  \n",
       "168                                0.000000  \n",
       "169                                0.000000  \n",
       "\n",
       "[170 rows x 8 columns]"
      ]
     },
     "execution_count": 83,
     "metadata": {},
     "output_type": "execute_result"
    }
   ],
   "source": [
    "mtn"
   ]
  },
  {
   "cell_type": "code",
   "execution_count": 93,
   "id": "01fc1c14",
   "metadata": {},
   "outputs": [],
   "source": [
    "# Plot the bar charts\n",
    "labels = ['precision', 'recall', 'f1-score']\n",
    "x = np.arange(len(labels))\n",
    "width = 0.35\n"
   ]
  },
  {
   "cell_type": "code",
   "execution_count": null,
   "id": "7304a725",
   "metadata": {},
   "outputs": [],
   "source": [
    "df = pd.read_csv('data_without_empty_cells.csv')"
   ]
  },
  {
   "cell_type": "code",
   "execution_count": null,
   "id": "80b64be6",
   "metadata": {},
   "outputs": [],
   "source": [
    "df"
   ]
  },
  {
   "cell_type": "code",
   "execution_count": null,
   "id": "9385c6d5",
   "metadata": {},
   "outputs": [],
   "source": [
    "\n",
    "df= df.drop(\"Unnamed: 0\", axis=1)"
   ]
  },
  {
   "cell_type": "code",
   "execution_count": null,
   "id": "8d8e7001",
   "metadata": {},
   "outputs": [],
   "source": [
    "df"
   ]
  },
  {
   "cell_type": "code",
   "execution_count": null,
   "id": "4a72f519",
   "metadata": {},
   "outputs": [],
   "source": [
    "df.isnull().sum()"
   ]
  },
  {
   "cell_type": "code",
   "execution_count": null,
   "id": "62a41b88",
   "metadata": {},
   "outputs": [],
   "source": [
    "\n",
    "df= df.drop(\"Ping Delay (ms)\", axis=1)"
   ]
  },
  {
   "cell_type": "code",
   "execution_count": null,
   "id": "9b8918f4",
   "metadata": {},
   "outputs": [],
   "source": [
    "df.isnull().sum()"
   ]
  },
  {
   "cell_type": "code",
   "execution_count": null,
   "id": "6d193572",
   "metadata": {},
   "outputs": [],
   "source": [
    "df['Date'] = pd.to_datetime(df['Date'],format = '%m/%d/%Y')\n"
   ]
  },
  {
   "cell_type": "code",
   "execution_count": null,
   "id": "15ee5924",
   "metadata": {},
   "outputs": [],
   "source": [
    "df"
   ]
  },
  {
   "cell_type": "code",
   "execution_count": null,
   "id": "31373d51",
   "metadata": {},
   "outputs": [],
   "source": [
    "df['Time'] = pd.to_numeric(df['Time'].str.replace(':','')) "
   ]
  },
  {
   "cell_type": "code",
   "execution_count": null,
   "id": "fab8669b",
   "metadata": {},
   "outputs": [],
   "source": [
    "df"
   ]
  },
  {
   "cell_type": "code",
   "execution_count": null,
   "id": "635574cf",
   "metadata": {},
   "outputs": [],
   "source": [
    "df = pd.read_csv('FUTA and ENVIRONS.csv')"
   ]
  },
  {
   "cell_type": "code",
   "execution_count": null,
   "id": "e6372d6a",
   "metadata": {},
   "outputs": [],
   "source": [
    "df"
   ]
  },
  {
   "cell_type": "code",
   "execution_count": null,
   "id": "79aeaef3",
   "metadata": {},
   "outputs": [],
   "source": [
    "df['Time'] = pd.to_numeric(df['Time'].str.replace(':','')) "
   ]
  },
  {
   "cell_type": "code",
   "execution_count": null,
   "id": "21665aa5",
   "metadata": {},
   "outputs": [],
   "source": [
    "df"
   ]
  },
  {
   "cell_type": "code",
   "execution_count": null,
   "id": "f1bb4966",
   "metadata": {},
   "outputs": [],
   "source": [
    "df['Date'] = pd.to_datetime(df['Date'],format = '%m/%d/%Y')\n"
   ]
  },
  {
   "cell_type": "code",
   "execution_count": null,
   "id": "a2e25e4e",
   "metadata": {},
   "outputs": [],
   "source": [
    "df"
   ]
  },
  {
   "cell_type": "code",
   "execution_count": null,
   "id": "7fd72092",
   "metadata": {},
   "outputs": [],
   "source": [
    "\n",
    "df.isnull().sum()"
   ]
  },
  {
   "cell_type": "code",
   "execution_count": null,
   "id": "6934acb8",
   "metadata": {},
   "outputs": [],
   "source": [
    "df = df.fillna(0)"
   ]
  },
  {
   "cell_type": "code",
   "execution_count": null,
   "id": "e624b2f8",
   "metadata": {},
   "outputs": [],
   "source": [
    "\n",
    "df.isnull().sum()"
   ]
  },
  {
   "cell_type": "code",
   "execution_count": null,
   "id": "aaad1529",
   "metadata": {},
   "outputs": [],
   "source": [
    "df"
   ]
  },
  {
   "cell_type": "code",
   "execution_count": null,
   "id": "8a3137e7",
   "metadata": {},
   "outputs": [],
   "source": [
    "df.to_csv('FUTAENVIRONS.csv', index=False)\n"
   ]
  },
  {
   "cell_type": "code",
   "execution_count": null,
   "id": "449f4563",
   "metadata": {},
   "outputs": [],
   "source": [
    "df.drop(\"Total PDCP UL Throughput\", axis=1, inplace=True)"
   ]
  },
  {
   "cell_type": "code",
   "execution_count": null,
   "id": "ba2962b1",
   "metadata": {
    "scrolled": true
   },
   "outputs": [],
   "source": [
    "df"
   ]
  },
  {
   "cell_type": "code",
   "execution_count": null,
   "id": "6e6685d7",
   "metadata": {},
   "outputs": [],
   "source": [
    "df.drop('Date', axis =1, inplace = True)"
   ]
  },
  {
   "cell_type": "code",
   "execution_count": null,
   "id": "77cd3a39",
   "metadata": {},
   "outputs": [],
   "source": [
    "X = df.drop('Total PDCP DL Throughput',axis=1)\n",
    "y = df['Total PDCP DL Throughput']"
   ]
  },
  {
   "cell_type": "code",
   "execution_count": null,
   "id": "57e51742",
   "metadata": {},
   "outputs": [],
   "source": [
    "df = df.astype(float)"
   ]
  },
  {
   "cell_type": "code",
   "execution_count": null,
   "id": "f4c80bce",
   "metadata": {},
   "outputs": [],
   "source": [
    "df.dtypes"
   ]
  },
  {
   "cell_type": "code",
   "execution_count": null,
   "id": "ee72b70d",
   "metadata": {},
   "outputs": [],
   "source": [
    "from sklearn.model_selection import train_test_split"
   ]
  },
  {
   "cell_type": "code",
   "execution_count": null,
   "id": "8afc4ae2",
   "metadata": {},
   "outputs": [],
   "source": [
    "\n",
    "X_train, X_test, y_train, y_test = train_test_split(X, y, test_size=0.3, random_state=101)"
   ]
  },
  {
   "cell_type": "code",
   "execution_count": null,
   "id": "4d14e1eb",
   "metadata": {
    "scrolled": true
   },
   "outputs": [],
   "source": [
    "X_train"
   ]
  },
  {
   "cell_type": "code",
   "execution_count": null,
   "id": "d9b0b92e",
   "metadata": {},
   "outputs": [],
   "source": [
    "y_train"
   ]
  },
  {
   "cell_type": "code",
   "execution_count": null,
   "id": "663e26af",
   "metadata": {},
   "outputs": [],
   "source": [
    "X_test"
   ]
  },
  {
   "cell_type": "code",
   "execution_count": null,
   "id": "17d00627",
   "metadata": {},
   "outputs": [],
   "source": [
    "y_test"
   ]
  },
  {
   "cell_type": "code",
   "execution_count": null,
   "id": "701f4830",
   "metadata": {},
   "outputs": [],
   "source": [
    "from sklearn.metrics import r2_score\n",
    "from sklearn.linear_model import LinearRegression"
   ]
  },
  {
   "cell_type": "code",
   "execution_count": null,
   "id": "c74d6b75",
   "metadata": {},
   "outputs": [],
   "source": [
    "sas = LinearRegression()"
   ]
  },
  {
   "cell_type": "code",
   "execution_count": null,
   "id": "e3a9d552",
   "metadata": {},
   "outputs": [],
   "source": [
    "sas.fit(X_train,y_train)"
   ]
  },
  {
   "cell_type": "code",
   "execution_count": null,
   "id": "c9b2fd3d",
   "metadata": {},
   "outputs": [],
   "source": [
    "# We only pass in test features\n",
    "# The model predicts its own y hat\n",
    "# We can then compare these results to the true y test label value\n",
    "test_pred = sas.predict(X_test)"
   ]
  },
  {
   "cell_type": "code",
   "execution_count": null,
   "id": "9adcb6ef",
   "metadata": {},
   "outputs": [],
   "source": [
    "test_pred"
   ]
  },
  {
   "cell_type": "code",
   "execution_count": null,
   "id": "2d8b84fd",
   "metadata": {},
   "outputs": [],
   "source": [
    "from sklearn.metrics import mean_absolute_error,mean_squared_error"
   ]
  },
  {
   "cell_type": "code",
   "execution_count": null,
   "id": "d661f332",
   "metadata": {},
   "outputs": [],
   "source": [
    "MAE = mean_absolute_error(y_test,test_pred)\n",
    "MSE = mean_squared_error(y_test,test_pred)\n",
    "RMSE = np.sqrt(MSE)"
   ]
  },
  {
   "cell_type": "code",
   "execution_count": null,
   "id": "6e307216",
   "metadata": {},
   "outputs": [],
   "source": [
    "MAE"
   ]
  },
  {
   "cell_type": "code",
   "execution_count": null,
   "id": "a4f8f3f3",
   "metadata": {},
   "outputs": [],
   "source": [
    "MSE"
   ]
  },
  {
   "cell_type": "code",
   "execution_count": null,
   "id": "a7e47d0b",
   "metadata": {},
   "outputs": [],
   "source": [
    "RMSE"
   ]
  },
  {
   "cell_type": "code",
   "execution_count": null,
   "id": "cde0c445",
   "metadata": {},
   "outputs": [],
   "source": [
    "df['Total PDCP DL Throughput'].mean()"
   ]
  },
  {
   "cell_type": "code",
   "execution_count": null,
   "id": "a52fe0f0",
   "metadata": {},
   "outputs": [],
   "source": [
    "# fit the linear regression model to the data\n",
    "reg = LinearRegression().fit(X, y)"
   ]
  },
  {
   "cell_type": "code",
   "execution_count": null,
   "id": "57d17676",
   "metadata": {},
   "outputs": [],
   "source": [
    "\n",
    "# make predictions with the model\n",
    "test_pred = reg.predict(X)"
   ]
  },
  {
   "cell_type": "code",
   "execution_count": null,
   "id": "fc396db7",
   "metadata": {},
   "outputs": [],
   "source": [
    "\n",
    "# calculate the accuracy score\n",
    "scoreb = r2_score(y, test_pred)"
   ]
  },
  {
   "cell_type": "code",
   "execution_count": null,
   "id": "9ee0753b",
   "metadata": {},
   "outputs": [],
   "source": [
    "scoreb"
   ]
  },
  {
   "cell_type": "code",
   "execution_count": null,
   "id": "2a638256",
   "metadata": {},
   "outputs": [],
   "source": [
    "df = pd.read_csv('FUTAENVIRONS.csv')"
   ]
  },
  {
   "cell_type": "code",
   "execution_count": null,
   "id": "86c4b42e",
   "metadata": {},
   "outputs": [],
   "source": [
    "df"
   ]
  },
  {
   "cell_type": "code",
   "execution_count": null,
   "id": "a4ecfd0c",
   "metadata": {},
   "outputs": [],
   "source": [
    "df.drop('Date', axis =1, inplace = True)"
   ]
  },
  {
   "cell_type": "code",
   "execution_count": null,
   "id": "a1b13caa",
   "metadata": {},
   "outputs": [],
   "source": [
    "df.drop(\"Total PDCP DL Throughput\", axis=1, inplace=True)"
   ]
  },
  {
   "cell_type": "code",
   "execution_count": null,
   "id": "9553bf51",
   "metadata": {},
   "outputs": [],
   "source": [
    "X = df.drop('Total PDCP UL Throughput',axis=1)\n",
    "y = df['Total PDCP UL Throughput']"
   ]
  },
  {
   "cell_type": "code",
   "execution_count": null,
   "id": "34cc071e",
   "metadata": {},
   "outputs": [],
   "source": [
    "df"
   ]
  },
  {
   "cell_type": "code",
   "execution_count": null,
   "id": "025b53f9",
   "metadata": {},
   "outputs": [],
   "source": [
    "df = df.astype(float)"
   ]
  },
  {
   "cell_type": "code",
   "execution_count": null,
   "id": "ed4503b0",
   "metadata": {},
   "outputs": [],
   "source": [
    "df.dtypes"
   ]
  },
  {
   "cell_type": "code",
   "execution_count": null,
   "id": "c6e99bd3",
   "metadata": {},
   "outputs": [],
   "source": [
    "from sklearn.model_selection import train_test_split"
   ]
  },
  {
   "cell_type": "code",
   "execution_count": null,
   "id": "0ee6e36d",
   "metadata": {},
   "outputs": [],
   "source": [
    "X_train, X_test, y_train, y_test = train_test_split(X, y, test_size=0.3, random_state=101)"
   ]
  },
  {
   "cell_type": "code",
   "execution_count": null,
   "id": "3a59f4bb",
   "metadata": {},
   "outputs": [],
   "source": [
    "X_train"
   ]
  },
  {
   "cell_type": "code",
   "execution_count": null,
   "id": "35ca41b8",
   "metadata": {},
   "outputs": [],
   "source": [
    "from sklearn.metrics import r2_score\n",
    "from sklearn.linear_model import LinearRegression"
   ]
  },
  {
   "cell_type": "code",
   "execution_count": null,
   "id": "3e318076",
   "metadata": {},
   "outputs": [],
   "source": [
    "kpk = LinearRegression()"
   ]
  },
  {
   "cell_type": "code",
   "execution_count": null,
   "id": "8142f579",
   "metadata": {},
   "outputs": [],
   "source": [
    "kpk.fit(X_train,y_train)"
   ]
  },
  {
   "cell_type": "code",
   "execution_count": null,
   "id": "a5d0970d",
   "metadata": {},
   "outputs": [],
   "source": [
    "test_predictions = kpk.predict(X_test)"
   ]
  },
  {
   "cell_type": "code",
   "execution_count": null,
   "id": "1ae2e711",
   "metadata": {},
   "outputs": [],
   "source": [
    "test_predictions"
   ]
  },
  {
   "cell_type": "code",
   "execution_count": null,
   "id": "568415df",
   "metadata": {},
   "outputs": [],
   "source": [
    "from sklearn.metrics import mean_absolute_error,mean_squared_error"
   ]
  },
  {
   "cell_type": "code",
   "execution_count": null,
   "id": "3849cadd",
   "metadata": {},
   "outputs": [],
   "source": [
    "M_AE = mean_absolute_error(y_test,test_predictions)\n",
    "MS_E = mean_squared_error(y_test,test_predictions)\n",
    "RMS_E = np.sqrt(MSE)"
   ]
  },
  {
   "cell_type": "code",
   "execution_count": null,
   "id": "586e6a31",
   "metadata": {},
   "outputs": [],
   "source": [
    "M_AE"
   ]
  },
  {
   "cell_type": "code",
   "execution_count": null,
   "id": "3c0a1138",
   "metadata": {},
   "outputs": [],
   "source": [
    "MS_E"
   ]
  },
  {
   "cell_type": "code",
   "execution_count": null,
   "id": "b9a8e73d",
   "metadata": {},
   "outputs": [],
   "source": [
    "RMS_E"
   ]
  },
  {
   "cell_type": "code",
   "execution_count": null,
   "id": "d251f827",
   "metadata": {},
   "outputs": [],
   "source": [
    "df['Total PDCP UL Throughput'].mean()"
   ]
  },
  {
   "cell_type": "code",
   "execution_count": null,
   "id": "9a5253d3",
   "metadata": {},
   "outputs": [],
   "source": [
    "deg = LinearRegression().fit(X, y)"
   ]
  },
  {
   "cell_type": "code",
   "execution_count": null,
   "id": "89054570",
   "metadata": {},
   "outputs": [],
   "source": [
    "y_kred = deg.predict(X)"
   ]
  },
  {
   "cell_type": "code",
   "execution_count": null,
   "id": "7a5f4506",
   "metadata": {},
   "outputs": [],
   "source": [
    "scorek = r2_score(y, y_kred)"
   ]
  },
  {
   "cell_type": "code",
   "execution_count": null,
   "id": "254d9701",
   "metadata": {},
   "outputs": [],
   "source": [
    "scorek "
   ]
  },
  {
   "cell_type": "code",
   "execution_count": null,
   "id": "08e67c61",
   "metadata": {},
   "outputs": [],
   "source": [
    "#checking out for Town \n",
    "df = pd.read_csv('TOWN.csv')"
   ]
  },
  {
   "cell_type": "code",
   "execution_count": null,
   "id": "c28c6414",
   "metadata": {},
   "outputs": [],
   "source": [
    "df"
   ]
  },
  {
   "cell_type": "code",
   "execution_count": null,
   "id": "da09e17a",
   "metadata": {},
   "outputs": [],
   "source": [
    "df.drop('Date', axis =1, inplace = True)"
   ]
  },
  {
   "cell_type": "code",
   "execution_count": null,
   "id": "90cf0266",
   "metadata": {},
   "outputs": [],
   "source": [
    "df['Time'] = pd.to_numeric(df['Time'].str.replace(':','')) "
   ]
  },
  {
   "cell_type": "code",
   "execution_count": null,
   "id": "9cce0a21",
   "metadata": {},
   "outputs": [],
   "source": [
    "df"
   ]
  },
  {
   "cell_type": "code",
   "execution_count": null,
   "id": "be44109d",
   "metadata": {},
   "outputs": [],
   "source": [
    "df.drop(\"Total PDCP UL Throughput\", axis=1, inplace=True)"
   ]
  },
  {
   "cell_type": "code",
   "execution_count": null,
   "id": "360dea76",
   "metadata": {},
   "outputs": [],
   "source": [
    "X = df.drop('Total PDCP DL Throughput',axis=1)\n",
    "y = df['Total PDCP DL Throughput']"
   ]
  },
  {
   "cell_type": "code",
   "execution_count": null,
   "id": "51328a3a",
   "metadata": {},
   "outputs": [],
   "source": [
    "from sklearn.model_selection import train_test_split"
   ]
  },
  {
   "cell_type": "code",
   "execution_count": null,
   "id": "2c206499",
   "metadata": {},
   "outputs": [],
   "source": [
    "X_train, X_test, y_train, y_test = train_test_split(X, y, test_size=0.3, random_state=101)"
   ]
  },
  {
   "cell_type": "code",
   "execution_count": null,
   "id": "f4736707",
   "metadata": {},
   "outputs": [],
   "source": [
    "from sklearn.metrics import r2_score\n",
    "from sklearn.linear_model import LinearRegression"
   ]
  },
  {
   "cell_type": "code",
   "execution_count": null,
   "id": "ae3dec6b",
   "metadata": {},
   "outputs": [],
   "source": [
    "clc = LinearRegression()"
   ]
  },
  {
   "cell_type": "code",
   "execution_count": null,
   "id": "ced65e20",
   "metadata": {},
   "outputs": [],
   "source": [
    "clc.fit(X_train,y_train)"
   ]
  },
  {
   "cell_type": "code",
   "execution_count": null,
   "id": "2396eb65",
   "metadata": {},
   "outputs": [],
   "source": [
    "test_predictions = clc.predict(X_test)"
   ]
  },
  {
   "cell_type": "code",
   "execution_count": null,
   "id": "ea25a0fd",
   "metadata": {},
   "outputs": [],
   "source": [
    "from sklearn.metrics import mean_absolute_error,mean_squared_error"
   ]
  },
  {
   "cell_type": "code",
   "execution_count": null,
   "id": "f8540369",
   "metadata": {},
   "outputs": [],
   "source": [
    "MA_E = mean_absolute_error(y_test,test_predictions)\n",
    "M_SE = mean_squared_error(y_test,test_predictions)\n",
    "R_MSE = np.sqrt(MSE)"
   ]
  },
  {
   "cell_type": "code",
   "execution_count": null,
   "id": "c3c6b964",
   "metadata": {},
   "outputs": [],
   "source": [
    "MA_E"
   ]
  },
  {
   "cell_type": "code",
   "execution_count": null,
   "id": "d8e7eb7f",
   "metadata": {},
   "outputs": [],
   "source": [
    "M_SE"
   ]
  },
  {
   "cell_type": "code",
   "execution_count": null,
   "id": "33f5db21",
   "metadata": {},
   "outputs": [],
   "source": [
    "R_MSE"
   ]
  },
  {
   "cell_type": "code",
   "execution_count": null,
   "id": "3248dd2d",
   "metadata": {},
   "outputs": [],
   "source": [
    "df['Total PDCP DL Throughput'].mean()"
   ]
  },
  {
   "cell_type": "code",
   "execution_count": null,
   "id": "b71da972",
   "metadata": {},
   "outputs": [],
   "source": [
    "Feg = LinearRegression().fit(X, y)"
   ]
  },
  {
   "cell_type": "code",
   "execution_count": null,
   "id": "09566454",
   "metadata": {},
   "outputs": [],
   "source": [
    "y_Cred = Feg.predict(X)"
   ]
  },
  {
   "cell_type": "code",
   "execution_count": null,
   "id": "c20d3a84",
   "metadata": {},
   "outputs": [],
   "source": [
    "scor = r2_score(y, y_Cred)"
   ]
  },
  {
   "cell_type": "code",
   "execution_count": null,
   "id": "d599140e",
   "metadata": {},
   "outputs": [],
   "source": [
    "scor"
   ]
  },
  {
   "cell_type": "code",
   "execution_count": null,
   "id": "455700b4",
   "metadata": {},
   "outputs": [],
   "source": [
    "df = pd.read_csv('TOWN.csv')"
   ]
  },
  {
   "cell_type": "code",
   "execution_count": null,
   "id": "10fbabb0",
   "metadata": {},
   "outputs": [],
   "source": [
    "df"
   ]
  },
  {
   "cell_type": "code",
   "execution_count": null,
   "id": "b16ff764",
   "metadata": {},
   "outputs": [],
   "source": [
    "df.drop('Date', axis =1, inplace = True)"
   ]
  },
  {
   "cell_type": "code",
   "execution_count": null,
   "id": "f7dc90f1",
   "metadata": {},
   "outputs": [],
   "source": [
    "df['Time'] = pd.to_numeric(df['Time'].str.replace(':','')) "
   ]
  },
  {
   "cell_type": "code",
   "execution_count": null,
   "id": "7095621f",
   "metadata": {},
   "outputs": [],
   "source": [
    "df.drop(\"Total PDCP DL Throughput\", axis=1, inplace=True)"
   ]
  },
  {
   "cell_type": "code",
   "execution_count": null,
   "id": "6a3736cd",
   "metadata": {},
   "outputs": [],
   "source": [
    "X = df.drop('Total PDCP UL Throughput',axis=1)\n",
    "y = df['Total PDCP UL Throughput']"
   ]
  },
  {
   "cell_type": "code",
   "execution_count": null,
   "id": "4ead3954",
   "metadata": {},
   "outputs": [],
   "source": [
    "from sklearn.model_selection import train_test_split"
   ]
  },
  {
   "cell_type": "code",
   "execution_count": null,
   "id": "2a59fb57",
   "metadata": {},
   "outputs": [],
   "source": [
    "X_train, X_test, y_train, y_test = train_test_split(X, y, test_size=0.3, random_state=101)"
   ]
  },
  {
   "cell_type": "code",
   "execution_count": null,
   "id": "f0b6194c",
   "metadata": {},
   "outputs": [],
   "source": [
    "from sklearn.metrics import r2_score\n",
    "from sklearn.linear_model import LinearRegression"
   ]
  },
  {
   "cell_type": "code",
   "execution_count": null,
   "id": "fcb279d0",
   "metadata": {},
   "outputs": [],
   "source": [
    "clf = LinearRegression()"
   ]
  },
  {
   "cell_type": "code",
   "execution_count": null,
   "id": "5ab4b535",
   "metadata": {},
   "outputs": [],
   "source": [
    "clf.fit(X_train,y_train)"
   ]
  },
  {
   "cell_type": "code",
   "execution_count": null,
   "id": "697c08ad",
   "metadata": {},
   "outputs": [],
   "source": [
    "test_predictions = clf.predict(X_test)"
   ]
  },
  {
   "cell_type": "code",
   "execution_count": null,
   "id": "80b47057",
   "metadata": {},
   "outputs": [],
   "source": [
    "from sklearn.metrics import mean_absolute_error,mean_squared_error"
   ]
  },
  {
   "cell_type": "code",
   "execution_count": null,
   "id": "75e41959",
   "metadata": {},
   "outputs": [],
   "source": [
    "maer = mean_absolute_error(y_test,test_predictions)\n",
    "mser = mean_squared_error(y_test,test_predictions)\n",
    "rmser = np.sqrt(MSE)"
   ]
  },
  {
   "cell_type": "code",
   "execution_count": null,
   "id": "b114a8f9",
   "metadata": {},
   "outputs": [],
   "source": [
    "maer"
   ]
  },
  {
   "cell_type": "code",
   "execution_count": null,
   "id": "528e7481",
   "metadata": {},
   "outputs": [],
   "source": [
    "mser"
   ]
  },
  {
   "cell_type": "code",
   "execution_count": null,
   "id": "7463636e",
   "metadata": {},
   "outputs": [],
   "source": [
    "rmser"
   ]
  },
  {
   "cell_type": "code",
   "execution_count": null,
   "id": "16e36a08",
   "metadata": {},
   "outputs": [],
   "source": [
    "df['Total PDCP UL Throughput'].mean()"
   ]
  },
  {
   "cell_type": "code",
   "execution_count": null,
   "id": "0a575ee5",
   "metadata": {},
   "outputs": [],
   "source": [
    "Leg = LinearRegression().fit(X, y)"
   ]
  },
  {
   "cell_type": "code",
   "execution_count": null,
   "id": "e4b30341",
   "metadata": {},
   "outputs": [],
   "source": [
    "y_Pre = Leg.predict(X)"
   ]
  },
  {
   "cell_type": "code",
   "execution_count": null,
   "id": "03b2052a",
   "metadata": {},
   "outputs": [],
   "source": [
    "score2 = r2_score(y, y_Pre)"
   ]
  },
  {
   "cell_type": "code",
   "execution_count": null,
   "id": "0f5c976b",
   "metadata": {},
   "outputs": [],
   "source": [
    "score2"
   ]
  }
 ],
 "metadata": {
  "kernelspec": {
   "display_name": "Python 3 (ipykernel)",
   "language": "python",
   "name": "python3"
  },
  "language_info": {
   "codemirror_mode": {
    "name": "ipython",
    "version": 3
   },
   "file_extension": ".py",
   "mimetype": "text/x-python",
   "name": "python",
   "nbconvert_exporter": "python",
   "pygments_lexer": "ipython3",
   "version": "3.9.13"
  }
 },
 "nbformat": 4,
 "nbformat_minor": 5
}
