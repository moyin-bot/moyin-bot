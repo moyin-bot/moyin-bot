{
 "cells": [
  {
   "cell_type": "code",
   "execution_count": 1,
   "id": "44d52b24",
   "metadata": {},
   "outputs": [],
   "source": [
    "#Importing data preprocessing libraries \n",
    "import pandas as pd\n",
    "import numpy as np\n",
    "\n",
    "#Turning off warning messages\n",
    "import warnings\n",
    "warnings.filterwarnings(\"ignore\")\n",
    "warnings.filterwarnings(\"ignore\", category=DeprecationWarning)\n",
    "\n",
    "#Importing visualization libraries \n",
    "import matplotlib.pyplot as plt\n",
    "%matplotlib inline \n",
    "import seaborn as sns\n",
    "\n",
    "#Importing machine learning libs \n",
    "from sklearn.model_selection import train_test_split\n",
    "\n",
    "\n",
    "from sklearn.metrics import confusion_matrix,classification_report,plot_confusion_matrix\n",
    "from sklearn.preprocessing import StandardScaler\n",
    "from sklearn.linear_model import LogisticRegressionCV \n",
    "from sklearn.linear_model import LogisticRegression\n",
    "from sklearn.tree import DecisionTreeClassifier\n",
    "from sklearn.metrics import r2_score\n",
    "from sklearn.metrics import f1_score\n",
    "from sklearn.linear_model import LinearRegression\n",
    "from sklearn.metrics import mean_absolute_error,mean_squared_error\n",
    "from sklearn.metrics import plot_precision_recall_curve,plot_roc_curve\n",
    "from sklearn.metrics import classification_report\n"
   ]
  },
  {
   "cell_type": "code",
   "execution_count": 2,
   "id": "b9d64775",
   "metadata": {},
   "outputs": [],
   "source": [
    "from sklearn.svm import SVR,LinearSVR"
   ]
  },
  {
   "cell_type": "code",
   "execution_count": 3,
   "id": "69ee50c5",
   "metadata": {},
   "outputs": [],
   "source": [
    "df = pd.read_csv('FUTAENVIRONS.csv')"
   ]
  },
  {
   "cell_type": "code",
   "execution_count": 4,
   "id": "0ab7b75b",
   "metadata": {},
   "outputs": [],
   "source": [
    "df.drop('Date', axis =1, inplace = True)"
   ]
  },
  {
   "cell_type": "code",
   "execution_count": 5,
   "id": "3bbb4bc1",
   "metadata": {},
   "outputs": [],
   "source": [
    "df.drop(\"Total PDCP DL Throughput\", axis=1, inplace=True)"
   ]
  },
  {
   "cell_type": "code",
   "execution_count": 6,
   "id": "6f173de9",
   "metadata": {},
   "outputs": [],
   "source": [
    "X = df.drop('Total PDCP UL Throughput',axis=1)\n",
    "y = df['Total PDCP UL Throughput']"
   ]
  },
  {
   "cell_type": "code",
   "execution_count": 11,
   "id": "2cf6efcc",
   "metadata": {},
   "outputs": [],
   "source": [
    "X_train, X_test, y_train, y_test = train_test_split(X, y, test_size=0.3, random_state=101)"
   ]
  },
  {
   "cell_type": "code",
   "execution_count": 12,
   "id": "9894cc0d",
   "metadata": {},
   "outputs": [],
   "source": [
    "param_grid = {'C':[0.001,0.01,0.1,0.5,1],\n",
    "              'gamma':['scale','auto'],}\n"
   ]
  },
  {
   "cell_type": "code",
   "execution_count": 13,
   "id": "89e0ea09",
   "metadata": {},
   "outputs": [],
   "source": [
    "from sklearn.model_selection import GridSearchCV"
   ]
  },
  {
   "cell_type": "code",
   "execution_count": 14,
   "id": "a069f027",
   "metadata": {},
   "outputs": [],
   "source": [
    "svr = SVR()\n",
    "grid = GridSearchCV(svr,param_grid=param_grid)"
   ]
  },
  {
   "cell_type": "code",
   "execution_count": 15,
   "id": "99dc6ebe",
   "metadata": {},
   "outputs": [
    {
     "data": {
      "text/plain": [
       "GridSearchCV(estimator=SVR(),\n",
       "             param_grid={'C': [0.001, 0.01, 0.1, 0.5, 1],\n",
       "                         'gamma': ['scale', 'auto']})"
      ]
     },
     "execution_count": 15,
     "metadata": {},
     "output_type": "execute_result"
    }
   ],
   "source": [
    "grid.fit(X_train,y_train)"
   ]
  },
  {
   "cell_type": "code",
   "execution_count": 16,
   "id": "caff0192",
   "metadata": {},
   "outputs": [
    {
     "data": {
      "text/plain": [
       "{'C': 1, 'gamma': 'auto'}"
      ]
     },
     "execution_count": 16,
     "metadata": {},
     "output_type": "execute_result"
    }
   ],
   "source": [
    "grid.best_params_"
   ]
  },
  {
   "cell_type": "code",
   "execution_count": 17,
   "id": "61567d8c",
   "metadata": {},
   "outputs": [],
   "source": [
    "grid_preds = grid.predict(X_test)"
   ]
  },
  {
   "cell_type": "code",
   "execution_count": 29,
   "id": "90b77469",
   "metadata": {},
   "outputs": [
    {
     "data": {
      "text/plain": [
       "0.5730194031922619"
      ]
     },
     "execution_count": 29,
     "metadata": {},
     "output_type": "execute_result"
    }
   ],
   "source": [
    "mean_absolute_error(y_test, grid_preds)"
   ]
  },
  {
   "cell_type": "code",
   "execution_count": 26,
   "id": "0cb3269d",
   "metadata": {},
   "outputs": [
    {
     "data": {
      "text/plain": [
       "0.4599966516551647"
      ]
     },
     "execution_count": 26,
     "metadata": {},
     "output_type": "execute_result"
    }
   ],
   "source": [
    "mean_squared_error(y_test, grid_preds)"
   ]
  },
  {
   "cell_type": "code",
   "execution_count": 27,
   "id": "9a827c71",
   "metadata": {},
   "outputs": [
    {
     "data": {
      "text/plain": [
       "0.6782305298754728"
      ]
     },
     "execution_count": 27,
     "metadata": {},
     "output_type": "execute_result"
    }
   ],
   "source": [
    "np.sqrt(mean_squared_error(y_test,grid_preds))"
   ]
  },
  {
   "cell_type": "code",
   "execution_count": 28,
   "id": "56a5f697",
   "metadata": {},
   "outputs": [],
   "source": [
    "score = r2_score(y_test, grid_preds)"
   ]
  },
  {
   "cell_type": "code",
   "execution_count": 23,
   "id": "1e4d3ba3",
   "metadata": {},
   "outputs": [
    {
     "data": {
      "text/plain": [
       "0.004587398181115532"
      ]
     },
     "execution_count": 23,
     "metadata": {},
     "output_type": "execute_result"
    }
   ],
   "source": [
    "score"
   ]
  },
  {
   "cell_type": "code",
   "execution_count": null,
   "id": "4dfdef23",
   "metadata": {},
   "outputs": [],
   "source": []
  }
 ],
 "metadata": {
  "kernelspec": {
   "display_name": "Python 3 (ipykernel)",
   "language": "python",
   "name": "python3"
  },
  "language_info": {
   "codemirror_mode": {
    "name": "ipython",
    "version": 3
   },
   "file_extension": ".py",
   "mimetype": "text/x-python",
   "name": "python",
   "nbconvert_exporter": "python",
   "pygments_lexer": "ipython3",
   "version": "3.9.13"
  }
 },
 "nbformat": 4,
 "nbformat_minor": 5
}
